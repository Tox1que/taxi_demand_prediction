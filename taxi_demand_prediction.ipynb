{
 "cells": [
  {
   "cell_type": "markdown",
   "metadata": {
    "toc": true
   },
   "source": [
    "<h1>Содержание<span class=\"tocSkip\"></span></h1>\n",
    "<div class=\"toc\"><ul class=\"toc-item\"><li><span><a href=\"#Подготовка\" data-toc-modified-id=\"Подготовка-1\"><span class=\"toc-item-num\">1&nbsp;&nbsp;</span>Подготовка</a></span></li><li><span><a href=\"#Анализ\" data-toc-modified-id=\"Анализ-2\"><span class=\"toc-item-num\">2&nbsp;&nbsp;</span>Анализ</a></span></li><li><span><a href=\"#Обучение\" data-toc-modified-id=\"Обучение-3\"><span class=\"toc-item-num\">3&nbsp;&nbsp;</span>Обучение</a></span><ul class=\"toc-item\"><li><span><a href=\"#Prophet\" data-toc-modified-id=\"Prophet-3.1\"><span class=\"toc-item-num\">3.1&nbsp;&nbsp;</span>Prophet</a></span></li><li><span><a href=\"#Дополнительный-признак\" data-toc-modified-id=\"Дополнительный-признак-3.2\"><span class=\"toc-item-num\">3.2&nbsp;&nbsp;</span>Дополнительный признак</a></span></li><li><span><a href=\"#Разделение-данных-на-обучающую-и-тестовую-выборки\" data-toc-modified-id=\"Разделение-данных-на-обучающую-и-тестовую-выборки-3.3\"><span class=\"toc-item-num\">3.3&nbsp;&nbsp;</span>Разделение данных на обучающую и тестовую выборки</a></span></li><li><span><a href=\"#Модели-линейной-регрессии-и-градиентного-бустинга\" data-toc-modified-id=\"Модели-линейной-регрессии-и-градиентного-бустинга-3.4\"><span class=\"toc-item-num\">3.4&nbsp;&nbsp;</span>Модели линейной регрессии и градиентного бустинга</a></span></li><li><span><a href=\"#Модель-линейной-регрессии-(дифференцирование)\" data-toc-modified-id=\"Модель-линейной-регрессии-(дифференцирование)-3.5\"><span class=\"toc-item-num\">3.5&nbsp;&nbsp;</span>Модель линейной регрессии (дифференцирование)</a></span></li><li><span><a href=\"#Модель-линейной-регрессии-(набор-данных-с-дополнительным-признаком)\" data-toc-modified-id=\"Модель-линейной-регрессии-(набор-данных-с-дополнительным-признаком)-3.6\"><span class=\"toc-item-num\">3.6&nbsp;&nbsp;</span>Модель линейной регрессии (набор данных с дополнительным признаком)</a></span></li></ul></li><li><span><a href=\"#Тестирование\" data-toc-modified-id=\"Тестирование-4\"><span class=\"toc-item-num\">4&nbsp;&nbsp;</span>Тестирование</a></span></li><li><span><a href=\"#Общий-вывод\" data-toc-modified-id=\"Общий-вывод-5\"><span class=\"toc-item-num\">5&nbsp;&nbsp;</span>Общий вывод</a></span></li></ul></div>"
   ]
  },
  {
   "cell_type": "markdown",
   "metadata": {},
   "source": [
    "#  Прогнозирование заказов такси"
   ]
  },
  {
   "cell_type": "markdown",
   "metadata": {},
   "source": [
    "Компания «Чётенькое такси» собрала исторические данные о заказах такси в аэропортах. Чтобы привлекать больше водителей в период пиковой нагрузки, нужно спрогнозировать количество заказов такси на следующий час. Постройте модель для такого предсказания.\n",
    "\n",
    "Значение метрики *RMSE* на тестовой выборке должно быть не больше 48.\n",
    "\n",
    "Вам нужно:\n",
    "\n",
    "1. Загрузить данные и выполнить их ресемплирование по одному часу.\n",
    "2. Проанализировать данные.\n",
    "3. Обучить разные модели с различными гиперпараметрами. Сделать тестовую выборку размером 10% от исходных данных.\n",
    "4. Проверить данные на тестовой выборке и сделать выводы.\n",
    "\n",
    "\n",
    "Данные лежат в файле `taxi.csv`. Количество заказов находится в столбце `num_orders` (от англ. *number of orders*, «число заказов»)."
   ]
  },
  {
   "cell_type": "markdown",
   "metadata": {},
   "source": [
    "## Подготовка"
   ]
  },
  {
   "cell_type": "code",
   "execution_count": 1,
   "metadata": {},
   "outputs": [],
   "source": [
    "# !pip install scikit-learn==1.2.1 -q # -q убирает необязательные выводы в командах Linux\n",
    "# !pip install matplotlib==3.8.0 -q\n",
    "# !pip install pandas==1.5.3 -q\n",
    "# !pip install seaborn==0.13.0 -q\n",
    "# !pip install optuna -U -q\n",
    "# !pip install prophet -q"
   ]
  },
  {
   "cell_type": "code",
   "execution_count": 2,
   "metadata": {},
   "outputs": [],
   "source": [
    "import logging\n",
    "import os\n",
    "import time\n",
    "import warnings\n",
    "\n",
    "import matplotlib.pyplot as plt\n",
    "import numpy as np\n",
    "import optuna\n",
    "import pandas as pd\n",
    "import seaborn as sns\n",
    "from IPython.display import HTML, display\n",
    "from lightgbm import LGBMRegressor\n",
    "from prophet import Prophet\n",
    "from prophet.diagnostics import cross_validation, performance_metrics\n",
    "from prophet.make_holidays import make_holidays_df\n",
    "from prophet.plot import add_changepoints_to_plot\n",
    "from sklearn.base import BaseEstimator, TransformerMixin\n",
    "from sklearn.compose import make_column_transformer\n",
    "from sklearn.linear_model import Ridge\n",
    "from sklearn.metrics import mean_squared_error, r2_score\n",
    "from sklearn.model_selection import (TimeSeriesSplit, cross_val_score,\n",
    "                                     train_test_split)\n",
    "from sklearn.pipeline import Pipeline, make_pipeline\n",
    "from sklearn.preprocessing import OneHotEncoder, StandardScaler\n",
    "from statsmodels.tsa import stattools\n",
    "from statsmodels.tsa.seasonal import seasonal_decompose\n",
    "from tqdm import tqdm"
   ]
  },
  {
   "cell_type": "code",
   "execution_count": 3,
   "metadata": {},
   "outputs": [
    {
     "data": {
      "text/html": [
       "<style>.container { width:90% !important; }</style>"
      ],
      "text/plain": [
       "<IPython.core.display.HTML object>"
      ]
     },
     "metadata": {},
     "output_type": "display_data"
    }
   ],
   "source": [
    "SEED = 12345\n",
    "\n",
    "display(HTML('<style>.container { width:90% !important; }</style>'))\n",
    "logger = logging.getLogger('cmdstanpy')\n",
    "logger.addHandler(logging.NullHandler())\n",
    "logger.propagate = False\n",
    "logger.setLevel(logging.CRITICAL)\n",
    "optuna.logging.set_verbosity(optuna.logging.WARNING)\n",
    "sns.set_style('darkgrid')\n",
    "warnings.filterwarnings('ignore')"
   ]
  },
  {
   "cell_type": "code",
   "execution_count": 4,
   "metadata": {},
   "outputs": [],
   "source": [
    "def get_df(file_name, idx):\n",
    "    path_to_file = os.path.relpath(os.path.join('datasets/', file_name))\n",
    "    if os.path.isfile(path_to_file):\n",
    "        return pd.read_csv(path_to_file, parse_dates=idx, index_col=idx)\n",
    "    raise Exception('Данные отсутствуют')"
   ]
  },
  {
   "cell_type": "code",
   "execution_count": 5,
   "metadata": {},
   "outputs": [
    {
     "name": "stdout",
     "output_type": "stream",
     "text": [
      "True\n"
     ]
    }
   ],
   "source": [
    "df = get_df('taxi.csv', idx=[0])"
   ]
  },
  {
   "cell_type": "code",
   "execution_count": 6,
   "metadata": {},
   "outputs": [
    {
     "name": "stdout",
     "output_type": "stream",
     "text": [
      "<class 'pandas.core.frame.DataFrame'>\n",
      "DatetimeIndex: 26496 entries, 2018-03-01 00:00:00 to 2018-08-31 23:50:00\n",
      "Data columns (total 1 columns):\n",
      " #   Column      Non-Null Count  Dtype\n",
      "---  ------      --------------  -----\n",
      " 0   num_orders  26496 non-null  int64\n",
      "dtypes: int64(1)\n",
      "memory usage: 414.0 KB\n"
     ]
    },
    {
     "data": {
      "text/html": [
       "<div>\n",
       "<style scoped>\n",
       "    .dataframe tbody tr th:only-of-type {\n",
       "        vertical-align: middle;\n",
       "    }\n",
       "\n",
       "    .dataframe tbody tr th {\n",
       "        vertical-align: top;\n",
       "    }\n",
       "\n",
       "    .dataframe thead th {\n",
       "        text-align: right;\n",
       "    }\n",
       "</style>\n",
       "<table border=\"1\" class=\"dataframe\">\n",
       "  <thead>\n",
       "    <tr style=\"text-align: right;\">\n",
       "      <th></th>\n",
       "      <th>num_orders</th>\n",
       "    </tr>\n",
       "    <tr>\n",
       "      <th>datetime</th>\n",
       "      <th></th>\n",
       "    </tr>\n",
       "  </thead>\n",
       "  <tbody>\n",
       "    <tr>\n",
       "      <th>2018-03-01 00:00:00</th>\n",
       "      <td>9</td>\n",
       "    </tr>\n",
       "    <tr>\n",
       "      <th>2018-03-01 00:10:00</th>\n",
       "      <td>14</td>\n",
       "    </tr>\n",
       "    <tr>\n",
       "      <th>2018-03-01 00:20:00</th>\n",
       "      <td>28</td>\n",
       "    </tr>\n",
       "    <tr>\n",
       "      <th>2018-03-01 00:30:00</th>\n",
       "      <td>20</td>\n",
       "    </tr>\n",
       "    <tr>\n",
       "      <th>2018-03-01 00:40:00</th>\n",
       "      <td>32</td>\n",
       "    </tr>\n",
       "    <tr>\n",
       "      <th>2018-03-01 00:50:00</th>\n",
       "      <td>21</td>\n",
       "    </tr>\n",
       "    <tr>\n",
       "      <th>2018-03-01 01:00:00</th>\n",
       "      <td>7</td>\n",
       "    </tr>\n",
       "    <tr>\n",
       "      <th>2018-03-01 01:10:00</th>\n",
       "      <td>5</td>\n",
       "    </tr>\n",
       "    <tr>\n",
       "      <th>2018-03-01 01:20:00</th>\n",
       "      <td>17</td>\n",
       "    </tr>\n",
       "    <tr>\n",
       "      <th>2018-03-01 01:30:00</th>\n",
       "      <td>12</td>\n",
       "    </tr>\n",
       "  </tbody>\n",
       "</table>\n",
       "</div>"
      ],
      "text/plain": [
       "                     num_orders\n",
       "datetime                       \n",
       "2018-03-01 00:00:00           9\n",
       "2018-03-01 00:10:00          14\n",
       "2018-03-01 00:20:00          28\n",
       "2018-03-01 00:30:00          20\n",
       "2018-03-01 00:40:00          32\n",
       "2018-03-01 00:50:00          21\n",
       "2018-03-01 01:00:00           7\n",
       "2018-03-01 01:10:00           5\n",
       "2018-03-01 01:20:00          17\n",
       "2018-03-01 01:30:00          12"
      ]
     },
     "execution_count": 6,
     "metadata": {},
     "output_type": "execute_result"
    }
   ],
   "source": [
    "df.info()\n",
    "df.head(10)"
   ]
  },
  {
   "cell_type": "code",
   "execution_count": 7,
   "metadata": {},
   "outputs": [
    {
     "name": "stdout",
     "output_type": "stream",
     "text": [
      "True\n"
     ]
    }
   ],
   "source": [
    "df = df.resample('h').sum()\n",
    "print(df.index.is_monotonic_increasing)"
   ]
  },
  {
   "cell_type": "markdown",
   "metadata": {},
   "source": [
    "**Вывод**:  \n",
    "- загружен набор данных, содержащий информацию о заказах такси в аэропортах;  \n",
    "- выполнено ресемплирование по одному часу и проверка на монотонность индекса."
   ]
  },
  {
   "cell_type": "markdown",
   "metadata": {},
   "source": [
    "## Анализ"
   ]
  },
  {
   "cell_type": "code",
   "execution_count": 8,
   "metadata": {},
   "outputs": [],
   "source": [
    "def adf_test(values, alpha=.05):\n",
    "    stat, p_value = stattools.adfuller(values)[:2]\n",
    "    print(f'adf = {stat}, p-value = {p_value}')\n",
    "    if p_value > alpha:\n",
    "        print('Недостаточно оснований отвергнуть нулевую гипотезу')\n",
    "    else:\n",
    "        print('Достаточно оснований отвергнуть нулевую гипотезу')"
   ]
  },
  {
   "cell_type": "code",
   "execution_count": 9,
   "metadata": {},
   "outputs": [],
   "source": [
    "def plot_num_orders(data):\n",
    "    data['rolling_mean'] = data['num_orders'].rolling(168).mean()\n",
    "    data['rolling_std'] = data['num_orders'].rolling(168).std()\n",
    "    data.plot(figsize=(15, 8), title='График временного ряда')\n",
    "    plt.ylabel('Количество заказов')\n",
    "    plt.legend(['Количество заказов', 'Скользящее среднее',\n",
    "                'Скользящее стандартное отклонение'])\n",
    "    plt.xlabel('Дата и время');"
   ]
  },
  {
   "cell_type": "code",
   "execution_count": 10,
   "metadata": {},
   "outputs": [
    {
     "data": {
      "image/png": "[encoded data removed]",
      "text/plain": [
       "<Figure size 1080x576 with 1 Axes>"
      ]
     },
     "metadata": {
      "needs_background": "light"
     },
     "output_type": "display_data"
    }
   ],
   "source": [
    "plot_num_orders(df)\n",
    "df = df.drop(['rolling_mean', 'rolling_std'], axis=1)"
   ]
  },
  {
   "cell_type": "code",
   "execution_count": 11,
   "metadata": {},
   "outputs": [
    {
     "name": "stdout",
     "output_type": "stream",
     "text": [
      "adf = -3.0689242890279558, p-value = 0.028940051402612906\n",
      "Достаточно оснований отвергнуть нулевую гипотезу\n"
     ]
    }
   ],
   "source": [
    "adf_test(df['num_orders'])"
   ]
  },
  {
   "cell_type": "markdown",
   "metadata": {},
   "source": [
    "Стандартное отклонение с течением времени меняется незначительно.    \n",
    "Несмотря на то, что прослеживается восходящий тренд, есть основания отвергнуть гипотезу о нестационарности временного ряда."
   ]
  },
  {
   "cell_type": "code",
   "execution_count": 12,
   "metadata": {},
   "outputs": [],
   "source": [
    "decomposed = seasonal_decompose(df['num_orders'])"
   ]
  },
  {
   "cell_type": "code",
   "execution_count": 13,
   "metadata": {},
   "outputs": [
    {
     "data": {
      "image/png": "[encoded data removed]",
      "text/plain": [
       "<Figure size 1080x576 with 4 Axes>"
      ]
     },
     "metadata": {
      "needs_background": "light"
     },
     "output_type": "display_data"
    }
   ],
   "source": [
    "ax = decomposed.plot()\n",
    "ax.set_size_inches(15, 8);"
   ]
  },
  {
   "cell_type": "code",
   "execution_count": 14,
   "metadata": {},
   "outputs": [
    {
     "data": {
      "image/png": "[encoded data removed]",
      "text/plain": [
       "<Figure size 504x288 with 1 Axes>"
      ]
     },
     "metadata": {
      "needs_background": "light"
     },
     "output_type": "display_data"
    }
   ],
   "source": [
    "plt.figure(figsize=(7, 4))\n",
    "decomposed.seasonal[:'2018-03-03'].plot()\n",
    "plt.title('Сезонность (ресемплирование по одному часу)')\n",
    "plt.xlabel('Дата и время');"
   ]
  },
  {
   "cell_type": "markdown",
   "metadata": {},
   "source": [
    "Пик заказов находится в районе 12 часов ночи.  \n",
    "Наименьшее число заказов приходится примерно на 6 часов утра."
   ]
  },
  {
   "cell_type": "code",
   "execution_count": 15,
   "metadata": {},
   "outputs": [
    {
     "data": {
      "image/png": "[encoded data removed]",
      "text/plain": [
       "<Figure size 1080x288 with 2 Axes>"
      ]
     },
     "metadata": {
      "needs_background": "light"
     },
     "output_type": "display_data"
    }
   ],
   "source": [
    "decomposed_days = seasonal_decompose(df.resample('d').sum()['num_orders'])\n",
    "by_dayofweek = decomposed_days.seasonal['2018-03-05':'2018-03-11']\n",
    "by_dayofweek.index = by_dayofweek.index.dayofweek\n",
    "fig, axs = plt.subplots(1, 2, figsize=(15, 4))\n",
    "axs[0].set_title('Сезонность (ресемплирование по одним суткам)')\n",
    "decomposed_days.seasonal['2018-03-05':'2018-04-05'].plot(ax=axs[0])\n",
    "axs[0].set_xlabel('Дата')\n",
    "axs[1].set_title('Сезонность (ресемплирование по одним суткам)')\n",
    "by_dayofweek.plot(ax=axs[1])\n",
    "axs[1].set_xlabel('День недели');"
   ]
  },
  {
   "cell_type": "markdown",
   "metadata": {},
   "source": [
    "Пятница и понедельник лидируют по количеству заказов."
   ]
  },
  {
   "cell_type": "markdown",
   "metadata": {},
   "source": [
    "Для того чтобы сделать временной ряд более стационарным, применим дифференцирование."
   ]
  },
  {
   "cell_type": "code",
   "execution_count": 16,
   "metadata": {},
   "outputs": [
    {
     "data": {
      "image/png": "[encoded data removed]",
      "text/plain": [
       "<Figure size 1080x576 with 1 Axes>"
      ]
     },
     "metadata": {
      "needs_background": "light"
     },
     "output_type": "display_data"
    }
   ],
   "source": [
    "df_diff = df.copy()\n",
    "df_diff = (df_diff['num_orders'] - df_diff['num_orders'].shift()).to_frame()\n",
    "plot_num_orders(df_diff)\n",
    "df_diff = df_diff.drop(['rolling_mean', 'rolling_std'], axis=1)"
   ]
  },
  {
   "cell_type": "code",
   "execution_count": 17,
   "metadata": {},
   "outputs": [
    {
     "name": "stdout",
     "output_type": "stream",
     "text": [
      "adf = -15.793234257410534, p-value = 1.0958776746509151e-28\n",
      "Достаточно оснований отвергнуть нулевую гипотезу\n"
     ]
    }
   ],
   "source": [
    "adf_test(df_diff['num_orders'].dropna())"
   ]
  },
  {
   "cell_type": "code",
   "execution_count": 18,
   "metadata": {},
   "outputs": [
    {
     "data": {
      "image/png": "[encoded data removed]",
      "text/plain": [
       "<Figure size 1080x576 with 4 Axes>"
      ]
     },
     "metadata": {
      "needs_background": "light"
     },
     "output_type": "display_data"
    }
   ],
   "source": [
    "decomposed_diff = seasonal_decompose(df_diff['num_orders'].dropna())\n",
    "ax = decomposed_diff.plot()\n",
    "ax.set_size_inches(15, 8);"
   ]
  },
  {
   "cell_type": "markdown",
   "metadata": {},
   "source": [
    "**Вывод**:  \n",
    "- достаточно оснований отвергнуть гипотезу о нестационарности временного ряда;   \n",
    "- прослеживается восходящий тренд, недельная и суточная сезонность;  \n",
    "- создан датасет с продифференцированным временным рядом."
   ]
  },
  {
   "cell_type": "markdown",
   "metadata": {},
   "source": [
    "## Обучение"
   ]
  },
  {
   "cell_type": "code",
   "execution_count": 19,
   "metadata": {},
   "outputs": [],
   "source": [
    "def get_features_and_targets(data):\n",
    "    data = data.copy()\n",
    "    train, test = train_test_split(data, test_size=.1, shuffle=False)\n",
    "    X_train = train.drop('num_orders', axis=1)\n",
    "    y_train = train['num_orders']\n",
    "    X_test = test.drop('num_orders', axis=1)\n",
    "    y_test = test['num_orders']\n",
    "\n",
    "    frac = round(test.shape[0] / train.shape[0], 2)\n",
    "    print(f'Отношение тестовой выборки к обучающей: {frac}')\n",
    "    print(train.index.min(), train.index.max())\n",
    "    print(test.index.min(), test.index.max(), '\\n')\n",
    "    return X_train, X_test, y_train, y_test"
   ]
  },
  {
   "cell_type": "code",
   "execution_count": 20,
   "metadata": {},
   "outputs": [
    {
     "name": "stdout",
     "output_type": "stream",
     "text": [
      "Отношение тестовой выборки к обучающей: 0.11\n",
      "2018-03-01 00:00:00 2018-08-13 13:00:00\n",
      "2018-08-13 14:00:00 2018-08-31 23:00:00 \n",
      "\n"
     ]
    }
   ],
   "source": [
    "features_train, features_test, target_train, target_test = \\\n",
    "    get_features_and_targets(df)"
   ]
  },
  {
   "cell_type": "markdown",
   "metadata": {},
   "source": [
    "### Prophet"
   ]
  },
  {
   "cell_type": "code",
   "execution_count": 21,
   "metadata": {},
   "outputs": [
    {
     "data": {
      "text/plain": [
       "<prophet.forecaster.Prophet at 0x7fc97913a850>"
      ]
     },
     "execution_count": 21,
     "metadata": {},
     "output_type": "execute_result"
    }
   ],
   "source": [
    "df_prophet = df.reset_index(drop=False)\n",
    "df_prophet.columns = ['ds', 'y']\n",
    "\n",
    "train_data = df_prophet.iloc[:features_train.shape[0]]\n",
    "test_data = df_prophet.iloc[features_train.shape[0]:]\n",
    "\n",
    "ru_holidays = make_holidays_df(year_list=[2018], country='RU')\n",
    "model = Prophet(daily_seasonality=True, weekly_seasonality=True,\n",
    "                seasonality_mode='multiplicative', holidays=ru_holidays)\n",
    "model.fit(train_data)"
   ]
  },
  {
   "cell_type": "code",
   "execution_count": 22,
   "metadata": {},
   "outputs": [
    {
     "name": "stdout",
     "output_type": "stream",
     "text": [
      "798 794\n",
      "1592 794\n",
      "2386 794\n",
      "3180 794\n"
     ]
    }
   ],
   "source": [
    "tscv = TimeSeriesSplit(4)\n",
    "for elem in tscv.split(train_data):\n",
    "    print(len(elem[0]), len(elem[1]))"
   ]
  },
  {
   "cell_type": "code",
   "execution_count": 23,
   "metadata": {},
   "outputs": [
    {
     "data": {
      "application/vnd.jupyter.widget-view+json": {
       "model_id": "9991bc27ea18460aba32cf27bf752015",
       "version_major": 2,
       "version_minor": 0
      },
      "text/plain": [
       "  0%|          | 0/4 [00:00<?, ?it/s]"
      ]
     },
     "metadata": {},
     "output_type": "display_data"
    }
   ],
   "source": [
    "cv_results = cross_validation(\n",
    "    model=model,\n",
    "    initial='797 hours', period='794 hours',\n",
    "    horizon='794 hours',\n",
    ")"
   ]
  },
  {
   "cell_type": "code",
   "execution_count": 24,
   "metadata": {},
   "outputs": [],
   "source": [
    "max_cv_results = []\n",
    "prophet_cv_res = []\n",
    "for i in range(4):\n",
    "    prophet_cv_res.append(\n",
    "        performance_metrics(cv_results.iloc[794*i:794*(i+1)],\n",
    "                            rolling_window=1)['rmse'].values\n",
    "    )\n",
    "max_cv_results.append(max(prophet_cv_res)[0])"
   ]
  },
  {
   "cell_type": "code",
   "execution_count": 25,
   "metadata": {},
   "outputs": [],
   "source": [
    "future = model.make_future_dataframe(periods=test_data.shape[0], freq='h')\n",
    "forecast = model.predict(future)"
   ]
  },
  {
   "cell_type": "code",
   "execution_count": 26,
   "metadata": {},
   "outputs": [
    {
     "data": {
      "text/plain": [
       "44.58446134313319"
      ]
     },
     "execution_count": 26,
     "metadata": {},
     "output_type": "execute_result"
    }
   ],
   "source": [
    "mean_squared_error(\n",
    "    test_data['y'], forecast.loc[test_data.index, 'yhat'], squared=False\n",
    ")"
   ]
  },
  {
   "cell_type": "markdown",
   "metadata": {},
   "source": [
    "Полученное значение целевой метрики примерно равно 44.64, что удовлетворяет требованию к качеству модели."
   ]
  },
  {
   "cell_type": "markdown",
   "metadata": {},
   "source": [
    "### Дополнительный признак"
   ]
  },
  {
   "cell_type": "markdown",
   "metadata": {},
   "source": [
    "При вызове метода `predict()` модели `Prophet` возвращается датасет.  \n",
    "Используем его переменную `weekly` в качестве дополнительного признака."
   ]
  },
  {
   "cell_type": "code",
   "execution_count": 27,
   "metadata": {},
   "outputs": [
    {
     "name": "stderr",
     "output_type": "stream",
     "text": [
      "100%|██████████| 4/4 [00:18<00:00,  4.57s/it]\n"
     ]
    }
   ],
   "source": [
    "cv_dict = {}\n",
    "model = Prophet(holidays=ru_holidays)\n",
    "model.add_seasonality(name='weekly', period=7, fourier_order=100)\n",
    "model.fit(train_data)\n",
    "future = model.make_future_dataframe(periods=test_data.shape[0], freq='h')\n",
    "forecast = model.predict(future)\n",
    "forecast = forecast.set_index('ds', drop=True)\n",
    "\n",
    "cv_dict[features_train.shape[0]] = forecast['weekly']\n",
    "for i in tqdm(range(4)):\n",
    "    train_upper = 798 + 794 * i\n",
    "    train_data = df_prophet.iloc[:train_upper]\n",
    "    test_data = df_prophet.iloc[train_upper:train_upper + 794]\n",
    "    model = Prophet(holidays=ru_holidays)\n",
    "    model.add_seasonality(name='weekly', period=7, fourier_order=100)\n",
    "    model.fit(train_data)\n",
    "    future = model.make_future_dataframe(periods=test_data.shape[0], freq='h')\n",
    "    exec(f'forecast_cv_{i+1} = model.predict(future)')\n",
    "    exec(f'forecast_cv_{i+1} = forecast_cv_{i+1}.set_index(\"ds\", drop=True)')\n",
    "    exec(f'cv_dict[forecast_cv_{i+1}.shape[0] - test_data.shape[0]] = '\n",
    "         f'forecast_cv_{i+1}[\"weekly\"]')"
   ]
  },
  {
   "cell_type": "code",
   "execution_count": 28,
   "metadata": {},
   "outputs": [
    {
     "data": {
      "text/plain": [
       "True"
      ]
     },
     "execution_count": 28,
     "metadata": {},
     "output_type": "execute_result"
    }
   ],
   "source": [
    "(\n",
    "    forecast_cv_4.shape[0]\n",
    "    == features_train.shape[0]\n",
    "    == (forecast_cv_4.index == features_train.index).sum()\n",
    ")"
   ]
  },
  {
   "cell_type": "markdown",
   "metadata": {},
   "source": [
    "### Разделение данных на обучающую и тестовую выборки"
   ]
  },
  {
   "cell_type": "code",
   "execution_count": 29,
   "metadata": {},
   "outputs": [
    {
     "name": "stdout",
     "output_type": "stream",
     "text": [
      "df\n",
      "Отношение тестовой выборки к обучающей: 0.11\n",
      "2018-03-01 00:00:00 2018-08-13 13:00:00\n",
      "2018-08-13 14:00:00 2018-08-31 23:00:00 \n",
      "\n",
      "df_diff\n",
      "Отношение тестовой выборки к обучающей: 0.11\n",
      "2018-03-01 00:00:00 2018-08-13 13:00:00\n",
      "2018-08-13 14:00:00 2018-08-31 23:00:00 \n",
      "\n"
     ]
    }
   ],
   "source": [
    "dataframes = {'': df, '_diff': df_diff,}\n",
    "data_names = ['features_train', 'features_test',\n",
    "              'target_train', 'target_test']\n",
    "\n",
    "for name_part, data in dataframes.items():\n",
    "    print(f'df{name_part}')\n",
    "    features_targets = get_features_and_targets(data)\n",
    "    for i in range(len(data_names)):\n",
    "        exec(f'{data_names[i]}{name_part} = features_targets[{i}]')"
   ]
  },
  {
   "cell_type": "markdown",
   "metadata": {},
   "source": [
    "### Модели линейной регрессии и градиентного бустинга"
   ]
  },
  {
   "cell_type": "markdown",
   "metadata": {},
   "source": [
    "Напишем функцию, которая будет создавать новые признаки.  \n",
    "Для того чтобы избежать утечки данных, при создании признака `rolling_mean` не будем учитывать текущее значение (используем функцию `shift()`)."
   ]
  },
  {
   "cell_type": "code",
   "execution_count": 30,
   "metadata": {},
   "outputs": [],
   "source": [
    "def add_features(data, rolling_mean_size, max_lag=24):\n",
    "    local_df = data.copy()\n",
    "    col_names = ['dayofweek', 'hour']\n",
    "    for col_name in col_names:\n",
    "        local_df[col_name] = getattr(local_df.index, col_name)\n",
    "\n",
    "    new = {f'lag_{i}': local_df['num_orders'].shift(i).values\n",
    "           for i in range(1, max_lag+1)}\n",
    "\n",
    "    local_df = local_df.merge(pd.DataFrame(new, index=local_df.index),\n",
    "                  left_index=True, right_index=True)\n",
    "\n",
    "    local_df['rolling_mean'] = \\\n",
    "        local_df['num_orders'].shift().rolling(rolling_mean_size).mean()\n",
    "    return local_df"
   ]
  },
  {
   "cell_type": "code",
   "execution_count": 31,
   "metadata": {},
   "outputs": [],
   "source": [
    "class FeaturesExtender(BaseEstimator, TransformerMixin):\n",
    "    def __init__(self, forecasts=cv_dict):\n",
    "        self.forecasts = forecasts\n",
    "\n",
    "    def fit(self, X, y):\n",
    "        self.size = X.shape[0]\n",
    "        self.weekly = self.forecasts[self.size]\n",
    "        return self\n",
    "\n",
    "    def transform(self, X, y=None):\n",
    "        lower, upper = 0, self.size\n",
    "        if X.shape[0] != self.size:\n",
    "            lower, upper = self.size, self.size + X.shape[0]\n",
    "        X = X.merge(\n",
    "            self.weekly.iloc[lower:upper],\n",
    "            left_index=True, right_index=True,\n",
    "            how='left'\n",
    "        )\n",
    "        return X"
   ]
  },
  {
   "cell_type": "code",
   "execution_count": 32,
   "metadata": {},
   "outputs": [],
   "source": [
    "class PipelineDropNA(Pipeline):\n",
    "    \n",
    "    def fit(self, X, y=None, **params):\n",
    "        if y is not None:\n",
    "            X = X.dropna()\n",
    "            y = y.loc[X.index]\n",
    "\n",
    "        return super().fit(X, y, **params)"
   ]
  },
  {
   "cell_type": "code",
   "execution_count": 33,
   "metadata": {},
   "outputs": [
    {
     "data": {
      "text/html": [
       "<div>\n",
       "<style scoped>\n",
       "    .dataframe tbody tr th:only-of-type {\n",
       "        vertical-align: middle;\n",
       "    }\n",
       "\n",
       "    .dataframe tbody tr th {\n",
       "        vertical-align: top;\n",
       "    }\n",
       "\n",
       "    .dataframe thead th {\n",
       "        text-align: right;\n",
       "    }\n",
       "</style>\n",
       "<table border=\"1\" class=\"dataframe\">\n",
       "  <thead>\n",
       "    <tr style=\"text-align: right;\">\n",
       "      <th></th>\n",
       "    </tr>\n",
       "    <tr>\n",
       "      <th>datetime</th>\n",
       "    </tr>\n",
       "  </thead>\n",
       "  <tbody>\n",
       "    <tr>\n",
       "      <th>2018-03-01 00:00:00</th>\n",
       "    </tr>\n",
       "    <tr>\n",
       "      <th>2018-03-01 01:00:00</th>\n",
       "    </tr>\n",
       "    <tr>\n",
       "      <th>2018-03-01 02:00:00</th>\n",
       "    </tr>\n",
       "    <tr>\n",
       "      <th>2018-03-01 03:00:00</th>\n",
       "    </tr>\n",
       "    <tr>\n",
       "      <th>2018-03-01 04:00:00</th>\n",
       "    </tr>\n",
       "    <tr>\n",
       "      <th>...</th>\n",
       "    </tr>\n",
       "    <tr>\n",
       "      <th>2018-08-13 09:00:00</th>\n",
       "    </tr>\n",
       "    <tr>\n",
       "      <th>2018-08-13 10:00:00</th>\n",
       "    </tr>\n",
       "    <tr>\n",
       "      <th>2018-08-13 11:00:00</th>\n",
       "    </tr>\n",
       "    <tr>\n",
       "      <th>2018-08-13 12:00:00</th>\n",
       "    </tr>\n",
       "    <tr>\n",
       "      <th>2018-08-13 13:00:00</th>\n",
       "    </tr>\n",
       "  </tbody>\n",
       "</table>\n",
       "<p>3974 rows × 0 columns</p>\n",
       "</div>"
      ],
      "text/plain": [
       "Empty DataFrame\n",
       "Columns: []\n",
       "Index: [2018-03-01 00:00:00, 2018-03-01 01:00:00, 2018-03-01 02:00:00, 2018-03-01 03:00:00, 2018-03-01 04:00:00, 2018-03-01 05:00:00, 2018-03-01 06:00:00, 2018-03-01 07:00:00, 2018-03-01 08:00:00, 2018-03-01 09:00:00, 2018-03-01 10:00:00, 2018-03-01 11:00:00, 2018-03-01 12:00:00, 2018-03-01 13:00:00, 2018-03-01 14:00:00, 2018-03-01 15:00:00, 2018-03-01 16:00:00, 2018-03-01 17:00:00, 2018-03-01 18:00:00, 2018-03-01 19:00:00, 2018-03-01 20:00:00, 2018-03-01 21:00:00, 2018-03-01 22:00:00, 2018-03-01 23:00:00, 2018-03-02 00:00:00, 2018-03-02 01:00:00, 2018-03-02 02:00:00, 2018-03-02 03:00:00, 2018-03-02 04:00:00, 2018-03-02 05:00:00, 2018-03-02 06:00:00, 2018-03-02 07:00:00, 2018-03-02 08:00:00, 2018-03-02 09:00:00, 2018-03-02 10:00:00, 2018-03-02 11:00:00, 2018-03-02 12:00:00, 2018-03-02 13:00:00, 2018-03-02 14:00:00, 2018-03-02 15:00:00, 2018-03-02 16:00:00, 2018-03-02 17:00:00, 2018-03-02 18:00:00, 2018-03-02 19:00:00, 2018-03-02 20:00:00, 2018-03-02 21:00:00, 2018-03-02 22:00:00, 2018-03-02 23:00:00, 2018-03-03 00:00:00, 2018-03-03 01:00:00, 2018-03-03 02:00:00, 2018-03-03 03:00:00, 2018-03-03 04:00:00, 2018-03-03 05:00:00, 2018-03-03 06:00:00, 2018-03-03 07:00:00, 2018-03-03 08:00:00, 2018-03-03 09:00:00, 2018-03-03 10:00:00, 2018-03-03 11:00:00, 2018-03-03 12:00:00, 2018-03-03 13:00:00, 2018-03-03 14:00:00, 2018-03-03 15:00:00, 2018-03-03 16:00:00, 2018-03-03 17:00:00, 2018-03-03 18:00:00, 2018-03-03 19:00:00, 2018-03-03 20:00:00, 2018-03-03 21:00:00, 2018-03-03 22:00:00, 2018-03-03 23:00:00, 2018-03-04 00:00:00, 2018-03-04 01:00:00, 2018-03-04 02:00:00, 2018-03-04 03:00:00, 2018-03-04 04:00:00, 2018-03-04 05:00:00, 2018-03-04 06:00:00, 2018-03-04 07:00:00, 2018-03-04 08:00:00, 2018-03-04 09:00:00, 2018-03-04 10:00:00, 2018-03-04 11:00:00, 2018-03-04 12:00:00, 2018-03-04 13:00:00, 2018-03-04 14:00:00, 2018-03-04 15:00:00, 2018-03-04 16:00:00, 2018-03-04 17:00:00, 2018-03-04 18:00:00, 2018-03-04 19:00:00, 2018-03-04 20:00:00, 2018-03-04 21:00:00, 2018-03-04 22:00:00, 2018-03-04 23:00:00, 2018-03-05 00:00:00, 2018-03-05 01:00:00, 2018-03-05 02:00:00, 2018-03-05 03:00:00, ...]\n",
       "\n",
       "[3974 rows x 0 columns]"
      ]
     },
     "execution_count": 33,
     "metadata": {},
     "output_type": "execute_result"
    }
   ],
   "source": [
    "features_train"
   ]
  },
  {
   "cell_type": "code",
   "execution_count": 34,
   "metadata": {},
   "outputs": [],
   "source": [
    "def objective(trial, X, y, alpha=(0, 50), reg_al=(1e-2, .2),\n",
    "              reg_lam=(1e-3, .1), clsmpl_btr=(0.7, 1), sbsmpl=(1e-2, 0.2),\n",
    "              l_rt=(0.001, 0.01), depth=(20, 30), leaves=(200, 600),\n",
    "              chld_smpls=(1, 30), cat_sm=(60, 90), extra_feature=False,\n",
    "              regressor='lr'):\n",
    "    X_train = X.copy()\n",
    "    X_train['num_orders'] = y\n",
    "    rolling_mean_size = trial.suggest_int('rolling_mean_size', 130, 180)\n",
    "    max_lag = trial.suggest_int('max_lag', 180, 250)\n",
    "    X_train = add_features(X_train, rolling_mean_size=rolling_mean_size,\n",
    "                           max_lag=max_lag)\n",
    "    X_train = X_train.drop('num_orders', axis=1)\n",
    "\n",
    "    if regressor == 'lgb':\n",
    "        lgb_params = {\n",
    "            'n_estimators': trial.suggest_int('n_estimators', 150, 500),\n",
    "            'reg_alpha': trial.suggest_float('reg_alpha', *reg_al, log=True),\n",
    "            'reg_lambda':\n",
    "                trial.suggest_float('reg_lambda', *reg_lam, log=True),\n",
    "            'colsample_bytree': trial.suggest_float('colsample_bytree',\n",
    "                                                    *clsmpl_btr),\n",
    "            'subsample': trial.suggest_float('subsample', *sbsmpl),\n",
    "            'learning_rate': trial.suggest_float('learning_rate', *l_rt),\n",
    "            'max_depth': trial.suggest_int('max_depth', *depth),\n",
    "            'num_leaves' : trial.suggest_int('num_leaves', *leaves),\n",
    "            'min_child_samples': trial.suggest_int('min_child_samples',\n",
    "                                                   *chld_smpls),\n",
    "            'cat_smooth' : trial.suggest_int('cat_smooth', *cat_sm)\n",
    "        }\n",
    "        model = LGBMRegressor(**lgb_params, random_state=SEED, n_jobs=-1)\n",
    "\n",
    "    else:\n",
    "        lr_params = {\n",
    "            'alpha': trial.suggest_int('alpha', *alpha),\n",
    "            'tol': trial.suggest_float('tol', 1e-4, 5e-4)\n",
    "        }\n",
    "        model = Ridge(\n",
    "            **lr_params,\n",
    "            random_state=SEED\n",
    "        )\n",
    "\n",
    "    encoder = OneHotEncoder(drop='first', handle_unknown='ignore',\n",
    "                            sparse_output=False)\n",
    "    transformer = make_column_transformer(\n",
    "        (encoder, [0, 1]), remainder='passthrough'\n",
    "    )\n",
    "    pipe_steps = [('transformer', transformer),\n",
    "                  ('scaler', StandardScaler()), ('model', model)]\n",
    "    pipeline = PipelineDropNA(pipe_steps)\n",
    "    if extra_feature:\n",
    "        pipeline = make_pipeline(FeaturesExtender(), pipeline)\n",
    "    result = cross_val_score(\n",
    "        pipeline, X_train, y,\n",
    "        scoring='neg_root_mean_squared_error',\n",
    "        n_jobs=-1,\n",
    "        cv=TimeSeriesSplit(4),\n",
    "        error_score='raise'\n",
    "    )\n",
    "    return result.min()"
   ]
  },
  {
   "cell_type": "code",
   "execution_count": 35,
   "metadata": {},
   "outputs": [],
   "source": [
    "# func = lambda trial: objective(trial, features_train, target_train)\n",
    "# sampler = optuna.samplers.TPESampler(seed=SEED)\n",
    "# lr_study = optuna.create_study(direction='maximize', sampler=sampler)\n",
    "# lr_study.optimize(func, n_trials=100, show_progress_bar=True)"
   ]
  },
  {
   "cell_type": "code",
   "execution_count": 36,
   "metadata": {},
   "outputs": [],
   "source": [
    "# func = lambda trial: objective(trial, features_train, target_train,\n",
    "#                                regressor='lgb')\n",
    "# sampler = optuna.samplers.TPESampler(seed=SEED)\n",
    "# lgb_study = optuna.create_study(direction='maximize', sampler=sampler)\n",
    "# lgb_study.optimize(func, n_trials=100, show_progress_bar=True)"
   ]
  },
  {
   "cell_type": "code",
   "execution_count": 37,
   "metadata": {},
   "outputs": [],
   "source": [
    "# lr_best_params = lr_study.best_params\n",
    "# lgb_best_params = lgb_study.best_params\n",
    "\n",
    "lr_best_params = {\n",
    "    'rolling_mean_size': 136,\n",
    "    'max_lag': 216,\n",
    "    'alpha': 47,\n",
    "    'tol': 0.00031816548957865976\n",
    "}\n",
    "\n",
    "lgb_best_params = {\n",
    "    'rolling_mean_size': 178,\n",
    "    'max_lag': 246,\n",
    "    'n_estimators': 277,\n",
    "    'reg_alpha': 0.09906686564937693,\n",
    "    'reg_lambda': 0.0015319679749569123,\n",
    "    'colsample_bytree': 0.9335382713256238,\n",
    "    'subsample': 0.1,\n",
    "    'learning_rate': 0.0671085578150022,\n",
    "    'max_depth': 26,\n",
    "    'num_leaves': 496,\n",
    "    'min_child_samples': 14,\n",
    "    'cat_smooth': 72\n",
    "}"
   ]
  },
  {
   "cell_type": "code",
   "execution_count": 38,
   "metadata": {},
   "outputs": [],
   "source": [
    "def get_features_and_targets_with_params(data, rolling_mean,\n",
    "                                         max_lag, best_params):\n",
    "    data = add_features(data, rolling_mean, max_lag)\n",
    "    return get_features_and_targets(data)"
   ]
  },
  {
   "cell_type": "code",
   "execution_count": 39,
   "metadata": {},
   "outputs": [
    {
     "name": "stdout",
     "output_type": "stream",
     "text": [
      "Отношение тестовой выборки к обучающей: 0.11\n",
      "2018-03-01 00:00:00 2018-08-13 13:00:00\n",
      "2018-08-13 14:00:00 2018-08-31 23:00:00 \n",
      "\n",
      "Отношение тестовой выборки к обучающей: 0.11\n",
      "2018-03-01 00:00:00 2018-08-13 13:00:00\n",
      "2018-08-13 14:00:00 2018-08-31 23:00:00 \n",
      "\n"
     ]
    }
   ],
   "source": [
    "reg_params = {'lr': lr_best_params, 'lgb': lgb_best_params}\n",
    "for reg, params in reg_params.items():\n",
    "    rolling_mean = params.pop('rolling_mean_size')\n",
    "    max_lag = params.pop('max_lag')\n",
    "    items = get_features_and_targets_with_params(\n",
    "        df, rolling_mean, max_lag, params\n",
    "    )\n",
    "    for i in range(len(data_names)):\n",
    "        exec(f'{reg}_{data_names[i]} = items[{i}]')"
   ]
  },
  {
   "cell_type": "code",
   "execution_count": 40,
   "metadata": {},
   "outputs": [],
   "source": [
    "def get_worst_cv_result(params, regressor='lr',\n",
    "                        X=lr_features_train, y=lr_target_train):\n",
    "    encoder = OneHotEncoder(drop='first', handle_unknown='ignore',\n",
    "                        sparse_output=False)\n",
    "    transformer = make_column_transformer(\n",
    "        (encoder, [0, 1]),\n",
    "         remainder='passthrough'\n",
    "    )\n",
    "    if regressor == 'lr':\n",
    "        model = Ridge(**params, random_state=SEED)\n",
    "    else:\n",
    "        model = LGBMRegressor(**params, random_state=SEED,\n",
    "                              n_jobs=-1, verbose=-1)\n",
    "    \n",
    "    pipe_steps = [('transformer', transformer),\n",
    "                  ('scaler', StandardScaler()), ('model', model)]\n",
    "    pipe = PipelineDropNA(pipe_steps)\n",
    "    result = cross_val_score(\n",
    "        pipe, X, y, scoring='neg_root_mean_squared_error', n_jobs=-1,\n",
    "        cv=TimeSeriesSplit(4), error_score='raise'\n",
    "    )\n",
    "    return -result.min()"
   ]
  },
  {
   "cell_type": "code",
   "execution_count": 41,
   "metadata": {},
   "outputs": [
    {
     "name": "stdout",
     "output_type": "stream",
     "text": [
      "CPU times: user 668 ms, sys: 811 ms, total: 1.48 s\n",
      "Wall time: 1.47 s\n"
     ]
    }
   ],
   "source": [
    "%%time\n",
    "lr_result = get_worst_cv_result(lr_best_params)\n",
    "# lgb_result = get_worst_cv_result(lgb_best_params, X=lgb_features_train,\n",
    "#                                  y=lgb_target_train, regressor='lgb')\n",
    "lgb_result = 28.159963\n",
    "max_cv_results.extend([lgb_result, lr_result])"
   ]
  },
  {
   "cell_type": "code",
   "execution_count": 42,
   "metadata": {},
   "outputs": [
    {
     "data": {
      "text/html": [
       "<div>\n",
       "<style scoped>\n",
       "    .dataframe tbody tr th:only-of-type {\n",
       "        vertical-align: middle;\n",
       "    }\n",
       "\n",
       "    .dataframe tbody tr th {\n",
       "        vertical-align: top;\n",
       "    }\n",
       "\n",
       "    .dataframe thead th {\n",
       "        text-align: right;\n",
       "    }\n",
       "</style>\n",
       "<table border=\"1\" class=\"dataframe\">\n",
       "  <thead>\n",
       "    <tr style=\"text-align: right;\">\n",
       "      <th></th>\n",
       "      <th>RMSE (максимальное значение на кросс-валидации)</th>\n",
       "    </tr>\n",
       "  </thead>\n",
       "  <tbody>\n",
       "    <tr>\n",
       "      <th>Ridge</th>\n",
       "      <td>26.552406</td>\n",
       "    </tr>\n",
       "    <tr>\n",
       "      <th>LGBMRegressor</th>\n",
       "      <td>28.159963</td>\n",
       "    </tr>\n",
       "    <tr>\n",
       "      <th>Prophet</th>\n",
       "      <td>31.910588</td>\n",
       "    </tr>\n",
       "  </tbody>\n",
       "</table>\n",
       "</div>"
      ],
      "text/plain": [
       "               RMSE (максимальное значение на кросс-валидации)\n",
       "Ridge                                                26.552406\n",
       "LGBMRegressor                                        28.159963\n",
       "Prophet                                              31.910588"
      ]
     },
     "execution_count": 42,
     "metadata": {},
     "output_type": "execute_result"
    }
   ],
   "source": [
    "models = ['Ridge', 'LGBMRegressor', 'Prophet']\n",
    "pd.DataFrame(data=max_cv_results[::-1], index=models,\n",
    "             columns=['RMSE (максимальное значение на кросс-валидации)'])"
   ]
  },
  {
   "cell_type": "markdown",
   "metadata": {},
   "source": [
    "Лучший результат показала модель линейной регрессии – используем её на следующих этапах исследования. "
   ]
  },
  {
   "cell_type": "markdown",
   "metadata": {},
   "source": [
    "### Модель линейной регрессии (дифференцирование)"
   ]
  },
  {
   "cell_type": "code",
   "execution_count": 43,
   "metadata": {},
   "outputs": [
    {
     "data": {
      "text/html": [
       "<div>\n",
       "<style scoped>\n",
       "    .dataframe tbody tr th:only-of-type {\n",
       "        vertical-align: middle;\n",
       "    }\n",
       "\n",
       "    .dataframe tbody tr th {\n",
       "        vertical-align: top;\n",
       "    }\n",
       "\n",
       "    .dataframe thead th {\n",
       "        text-align: right;\n",
       "    }\n",
       "</style>\n",
       "<table border=\"1\" class=\"dataframe\">\n",
       "  <thead>\n",
       "    <tr style=\"text-align: right;\">\n",
       "      <th></th>\n",
       "      <th>num_orders</th>\n",
       "    </tr>\n",
       "    <tr>\n",
       "      <th>datetime</th>\n",
       "      <th></th>\n",
       "    </tr>\n",
       "  </thead>\n",
       "  <tbody>\n",
       "    <tr>\n",
       "      <th>2018-03-01 00:00:00</th>\n",
       "      <td>NaN</td>\n",
       "    </tr>\n",
       "    <tr>\n",
       "      <th>2018-03-01 01:00:00</th>\n",
       "      <td>-39.0</td>\n",
       "    </tr>\n",
       "    <tr>\n",
       "      <th>2018-03-01 02:00:00</th>\n",
       "      <td>-14.0</td>\n",
       "    </tr>\n",
       "    <tr>\n",
       "      <th>2018-03-01 03:00:00</th>\n",
       "      <td>-5.0</td>\n",
       "    </tr>\n",
       "    <tr>\n",
       "      <th>2018-03-01 04:00:00</th>\n",
       "      <td>-23.0</td>\n",
       "    </tr>\n",
       "  </tbody>\n",
       "</table>\n",
       "</div>"
      ],
      "text/plain": [
       "                     num_orders\n",
       "datetime                       \n",
       "2018-03-01 00:00:00         NaN\n",
       "2018-03-01 01:00:00       -39.0\n",
       "2018-03-01 02:00:00       -14.0\n",
       "2018-03-01 03:00:00        -5.0\n",
       "2018-03-01 04:00:00       -23.0"
      ]
     },
     "execution_count": 43,
     "metadata": {},
     "output_type": "execute_result"
    }
   ],
   "source": [
    "df_diff.head()"
   ]
  },
  {
   "cell_type": "code",
   "execution_count": 44,
   "metadata": {},
   "outputs": [
    {
     "data": {
      "application/vnd.jupyter.widget-view+json": {
       "model_id": "f4953fa82ab6404c819a8149b51587dc",
       "version_major": 2,
       "version_minor": 0
      },
      "text/plain": [
       "  0%|          | 0/100 [00:00<?, ?it/s]"
      ]
     },
     "metadata": {},
     "output_type": "display_data"
    }
   ],
   "source": [
    "func = lambda trial: objective(trial, features_train_diff, target_train_diff,\n",
    "                               alpha=(0, 5))\n",
    "sampler = optuna.samplers.TPESampler(seed=SEED)\n",
    "diff_study = optuna.create_study(direction='maximize', sampler=sampler)\n",
    "diff_study.optimize(func, n_trials=100, show_progress_bar=True)"
   ]
  },
  {
   "cell_type": "code",
   "execution_count": 45,
   "metadata": {},
   "outputs": [],
   "source": [
    "item = max_cv_results.pop()\n",
    "max_cv_results.append(-diff_study.best_value)\n",
    "max_cv_results.append(item)"
   ]
  },
  {
   "cell_type": "markdown",
   "metadata": {},
   "source": [
    "### Модель линейной регрессии (набор данных с дополнительным признаком)"
   ]
  },
  {
   "cell_type": "code",
   "execution_count": 46,
   "metadata": {},
   "outputs": [
    {
     "data": {
      "application/vnd.jupyter.widget-view+json": {
       "model_id": "d3587571dea44dbb81e04664d0a912d9",
       "version_major": 2,
       "version_minor": 0
      },
      "text/plain": [
       "  0%|          | 0/100 [00:00<?, ?it/s]"
      ]
     },
     "metadata": {},
     "output_type": "display_data"
    }
   ],
   "source": [
    "func = lambda trial: objective(trial, features_train, target_train,\n",
    "                               extra_feature=True)\n",
    "sampler = optuna.samplers.TPESampler(seed=SEED)\n",
    "weekly_study = optuna.create_study(direction='maximize', sampler=sampler)\n",
    "weekly_study.optimize(func, n_trials=100, show_progress_bar=True)"
   ]
  },
  {
   "cell_type": "code",
   "execution_count": 47,
   "metadata": {},
   "outputs": [],
   "source": [
    "max_cv_results.append(-weekly_study.best_value)"
   ]
  },
  {
   "cell_type": "code",
   "execution_count": 48,
   "metadata": {},
   "outputs": [
    {
     "data": {
      "text/html": [
       "<div>\n",
       "<style scoped>\n",
       "    .dataframe tbody tr th:only-of-type {\n",
       "        vertical-align: middle;\n",
       "    }\n",
       "\n",
       "    .dataframe tbody tr th {\n",
       "        vertical-align: top;\n",
       "    }\n",
       "\n",
       "    .dataframe thead th {\n",
       "        text-align: right;\n",
       "    }\n",
       "</style>\n",
       "<table border=\"1\" class=\"dataframe\">\n",
       "  <thead>\n",
       "    <tr style=\"text-align: right;\">\n",
       "      <th></th>\n",
       "      <th>RMSE (максимальное значение на кросс-валидации)</th>\n",
       "    </tr>\n",
       "  </thead>\n",
       "  <tbody>\n",
       "    <tr>\n",
       "      <th>Ridge (дополнительный признак)</th>\n",
       "      <td>26.003834</td>\n",
       "    </tr>\n",
       "    <tr>\n",
       "      <th>Ridge</th>\n",
       "      <td>26.552406</td>\n",
       "    </tr>\n",
       "    <tr>\n",
       "      <th>Ridge (дифференцирование)</th>\n",
       "      <td>26.723455</td>\n",
       "    </tr>\n",
       "    <tr>\n",
       "      <th>LGBMRegressor</th>\n",
       "      <td>28.159963</td>\n",
       "    </tr>\n",
       "    <tr>\n",
       "      <th>Prophet</th>\n",
       "      <td>31.910588</td>\n",
       "    </tr>\n",
       "  </tbody>\n",
       "</table>\n",
       "</div>"
      ],
      "text/plain": [
       "                                RMSE (максимальное значение на кросс-валидации)\n",
       "Ridge (дополнительный признак)                                        26.003834\n",
       "Ridge                                                                 26.552406\n",
       "Ridge (дифференцирование)                                             26.723455\n",
       "LGBMRegressor                                                         28.159963\n",
       "Prophet                                                               31.910588"
      ]
     },
     "execution_count": 48,
     "metadata": {},
     "output_type": "execute_result"
    }
   ],
   "source": [
    "models = ['Ridge (дополнительный признак)', 'Ridge',\n",
    "          'Ridge (дифференцирование)', 'LGBMRegressor', 'Prophet']\n",
    "pd.DataFrame(data=max_cv_results[::-1], index=models,\n",
    "             columns=['RMSE (максимальное значение на кросс-валидации)'])"
   ]
  },
  {
   "cell_type": "markdown",
   "metadata": {},
   "source": [
    "**Вывод**:  \n",
    "- исследовано три модели: `Prophet`, `LGBMRegressor` и `Ridge`;  \n",
    "- на кросс-валидации лучший результат продемонстрировала модель линейной регрессии;  \n",
    "- наименьшее значение метрики `RMSE` удалось получить, используя при обучении модели датасет с дополнительным признаком `weekly`."
   ]
  },
  {
   "cell_type": "markdown",
   "metadata": {},
   "source": [
    "## Тестирование"
   ]
  },
  {
   "cell_type": "code",
   "execution_count": 49,
   "metadata": {},
   "outputs": [
    {
     "name": "stdout",
     "output_type": "stream",
     "text": [
      "Отношение тестовой выборки к обучающей: 0.11\n",
      "2018-03-01 00:00:00 2018-08-13 13:00:00\n",
      "2018-08-13 14:00:00 2018-08-31 23:00:00 \n",
      "\n"
     ]
    }
   ],
   "source": [
    "best_params = weekly_study.best_params\n",
    "\n",
    "items = get_features_and_targets_with_params(\n",
    "    data=df, rolling_mean=best_params.pop('rolling_mean_size'),\n",
    "    max_lag=best_params.pop('max_lag'), best_params=best_params\n",
    ")\n",
    "features_train, features_test, target_train, target_test = items"
   ]
  },
  {
   "cell_type": "code",
   "execution_count": 50,
   "metadata": {},
   "outputs": [],
   "source": [
    "encoder = OneHotEncoder(drop='first', handle_unknown='ignore',\n",
    "                        sparse_output=False)\n",
    "transformer = make_column_transformer(\n",
    "    (encoder, [0, 1]),\n",
    "     remainder='passthrough'\n",
    ")"
   ]
  },
  {
   "cell_type": "code",
   "execution_count": 51,
   "metadata": {},
   "outputs": [],
   "source": [
    "model = Ridge(**best_params, random_state=SEED)\n",
    "pipe = PipelineDropNA(\n",
    "    [\n",
    "        ('transformer', transformer),\n",
    "        ('scaler', StandardScaler()),\n",
    "        ('model', model)\n",
    "    ]\n",
    ")\n",
    "test_pipe = make_pipeline(FeaturesExtender(), pipe)\n",
    "test_pipe.fit(features_train, target_train)\n",
    "predicted = test_pipe.predict(features_test)"
   ]
  },
  {
   "cell_type": "code",
   "execution_count": 52,
   "metadata": {},
   "outputs": [
    {
     "data": {
      "text/html": [
       "<div>\n",
       "<style scoped>\n",
       "    .dataframe tbody tr th:only-of-type {\n",
       "        vertical-align: middle;\n",
       "    }\n",
       "\n",
       "    .dataframe tbody tr th {\n",
       "        vertical-align: top;\n",
       "    }\n",
       "\n",
       "    .dataframe thead th {\n",
       "        text-align: right;\n",
       "    }\n",
       "</style>\n",
       "<table border=\"1\" class=\"dataframe\">\n",
       "  <thead>\n",
       "    <tr style=\"text-align: right;\">\n",
       "      <th></th>\n",
       "      <th>Среднее значение тестовой выборки</th>\n",
       "      <th>R2</th>\n",
       "      <th>RMSE</th>\n",
       "    </tr>\n",
       "  </thead>\n",
       "  <tbody>\n",
       "    <tr>\n",
       "      <th>Ridge</th>\n",
       "      <td>139.56</td>\n",
       "      <td>0.68</td>\n",
       "      <td>33.3</td>\n",
       "    </tr>\n",
       "  </tbody>\n",
       "</table>\n",
       "</div>"
      ],
      "text/plain": [
       "       Среднее значение тестовой выборки    R2  RMSE\n",
       "Ridge                             139.56  0.68  33.3"
      ]
     },
     "execution_count": 52,
     "metadata": {},
     "output_type": "execute_result"
    }
   ],
   "source": [
    "mean = target_test.mean().round(2)\n",
    "r2 = round(r2_score(target_test, predicted), 2)\n",
    "rmse = round(mean_squared_error(target_test, predicted, squared=False), 2)\n",
    "data = {'Среднее значение тестовой выборки': mean, 'R2': r2, 'RMSE': rmse}\n",
    "pd.DataFrame(data=data, index=['Ridge'])"
   ]
  },
  {
   "cell_type": "code",
   "execution_count": 53,
   "metadata": {
    "scrolled": false
   },
   "outputs": [
    {
     "data": {
      "image/png": "[encoded data removed]",
      "text/plain": [
       "<Figure size 1080x360 with 1 Axes>"
      ]
     },
     "metadata": {
      "needs_background": "light"
     },
     "output_type": "display_data"
    }
   ],
   "source": [
    "predictions = pd.Series(predicted, index=target_test.index)\n",
    "\n",
    "plt.figure(figsize=(15, 5))\n",
    "plt.title('График прогноза количества заказов.')\n",
    "plt.xlabel('Дата и время')\n",
    "plt.ylabel('Число заказов')\n",
    "plt.plot(target_test, label='Тестовая выборка')\n",
    "plt.plot(predictions, label='Прогноз')\n",
    "plt.xticks(rotation=45, ha='center')\n",
    "\n",
    "text = (f'Среднее значение тестовой выборки: {mean}\\n'\n",
    "        f'R2: {r2}\\nRMSE: {rmse}')\n",
    "props = dict(alpha=0)\n",
    "ax = plt.gca()\n",
    "ax.text(0.01, 0.95, text, transform=ax.transAxes, fontsize=11,\n",
    "               verticalalignment='top', bbox=props)\n",
    "plt.legend();"
   ]
  },
  {
   "cell_type": "markdown",
   "metadata": {},
   "source": [
    "**Вывод**:  \n",
    "- у модели возникают трудности с прогнозированием пиковых значений целевого признака;\n",
    "- качество модели удовлетворяет запросу заказчика: значение метрики `RMSE` ниже 48."
   ]
  },
  {
   "cell_type": "markdown",
   "metadata": {},
   "source": [
    "## Общий вывод"
   ]
  },
  {
   "cell_type": "markdown",
   "metadata": {},
   "source": [
    "**Описание данных**  \n",
    "`taxi.csv` - датасет, содержащий информацию о заказах такси в аэропортах.  \n",
    "Количество заказов находится в столбце `num_orders`.  \n",
    "\n",
    "**Ход исследования**:  \n",
    "- загружены данные и выполнено их ресемплирование по одному часу;  \n",
    "- выполнен анализ:   \n",
    "    - в данных прослеживается недельная и дневная сезонность;  \n",
    "    - достаточно оснований отвергнуть гипотезу о нестационарности временного ряда;  \n",
    "    - создан датасет с продифференцированным временным рядом;  \n",
    "- данные разделены на обучающую и тестовую выборки в соотношении 9:1;  \n",
    "- выполнен подбор гиперпараметров для трёх моделей: `Prophet`, `LGBMRegressor` и `Ridge`;  \n",
    "- на кросс-валидации лучший результат продемонстрировала модель линейной регрессии,  \n",
    "поэтому была выбрана для дальнейшего исследования;  \n",
    "- наименьшее значение метрики `RMSE` удалось получить, обучая модель на датасете с дополнительным признаком `weekly` (соответствующая переменная извлечена из набора данных, который возвращается при вызове метода `predict()` класса `Prophet`);  \n",
    "- проведено финальное тестирование: `RMSE` = 33.3."
   ]
  }
 ],
 "metadata": {
  "ExecuteTimeLog": [
   {
    "duration": 47,
    "start_time": "2024-03-07T15:32:42.403Z"
   },
   {
    "duration": 6730,
    "start_time": "2024-03-07T15:33:11.174Z"
   },
   {
    "duration": 8666,
    "start_time": "2024-03-07T15:33:41.797Z"
   },
   {
    "duration": 9279,
    "start_time": "2024-03-07T15:34:11.030Z"
   },
   {
    "duration": 3445,
    "start_time": "2024-03-07T15:34:39.886Z"
   },
   {
    "duration": 3,
    "start_time": "2024-03-07T15:35:04.469Z"
   },
   {
    "duration": 1207,
    "start_time": "2024-03-07T15:35:09.725Z"
   },
   {
    "duration": 75,
    "start_time": "2024-03-07T15:35:31.926Z"
   },
   {
    "duration": 8,
    "start_time": "2024-03-07T15:35:55.053Z"
   },
   {
    "duration": 3936,
    "start_time": "2024-03-07T15:36:11.133Z"
   },
   {
    "duration": 2,
    "start_time": "2024-03-07T15:36:28.069Z"
   },
   {
    "duration": 13,
    "start_time": "2024-03-07T15:37:07.909Z"
   },
   {
    "duration": 17254,
    "start_time": "2024-03-07T15:37:15.485Z"
   },
   {
    "duration": 37,
    "start_time": "2024-03-07T15:37:57.700Z"
   },
   {
    "duration": 8,
    "start_time": "2024-03-07T15:38:15.196Z"
   },
   {
    "duration": 5355,
    "start_time": "2024-03-07T15:38:50.308Z"
   },
   {
    "duration": 502,
    "start_time": "2024-03-07T15:39:27.467Z"
   },
   {
    "duration": 3,
    "start_time": "2024-03-07T15:39:32.499Z"
   },
   {
    "duration": 2,
    "start_time": "2024-03-07T15:48:15.271Z"
   },
   {
    "duration": 353,
    "start_time": "2024-03-07T15:48:15.807Z"
   },
   {
    "duration": 56,
    "start_time": "2024-03-07T15:48:16.623Z"
   },
   {
    "duration": 4,
    "start_time": "2024-03-07T15:48:19.399Z"
   },
   {
    "duration": 152,
    "start_time": "2024-03-07T15:48:31.487Z"
   },
   {
    "duration": 4,
    "start_time": "2024-03-07T15:48:35.343Z"
   },
   {
    "duration": 191,
    "start_time": "2024-03-07T15:48:35.895Z"
   },
   {
    "duration": 9,
    "start_time": "2024-03-07T15:48:39.063Z"
   },
   {
    "duration": 13,
    "start_time": "2024-03-07T15:49:07.877Z"
   },
   {
    "duration": 9,
    "start_time": "2024-03-07T15:49:24.622Z"
   },
   {
    "duration": 3,
    "start_time": "2024-03-07T15:50:30.272Z"
   },
   {
    "duration": 4,
    "start_time": "2024-03-07T15:50:30.630Z"
   },
   {
    "duration": 763,
    "start_time": "2024-03-07T15:50:31.006Z"
   },
   {
    "duration": 1938,
    "start_time": "2024-03-07T15:50:57.334Z"
   },
   {
    "duration": 5,
    "start_time": "2024-03-07T15:52:50.165Z"
   },
   {
    "duration": 1761,
    "start_time": "2024-03-07T15:52:59.637Z"
   },
   {
    "duration": 454,
    "start_time": "2024-03-07T15:53:17.269Z"
   },
   {
    "duration": 751,
    "start_time": "2024-03-07T15:54:08.101Z"
   },
   {
    "duration": 638,
    "start_time": "2024-03-07T15:57:13.315Z"
   },
   {
    "duration": 1870,
    "start_time": "2024-03-07T15:57:37.203Z"
   },
   {
    "duration": 1649,
    "start_time": "2024-03-07T15:57:59.506Z"
   },
   {
    "duration": 4,
    "start_time": "2024-03-07T15:58:47.411Z"
   },
   {
    "duration": 6,
    "start_time": "2024-03-07T15:59:01.531Z"
   },
   {
    "duration": 4325,
    "start_time": "2024-03-07T15:59:38.498Z"
   },
   {
    "duration": 5,
    "start_time": "2024-03-07T15:59:51.298Z"
   },
   {
    "duration": 15388,
    "start_time": "2024-03-07T16:00:04.737Z"
   },
   {
    "duration": 296,
    "start_time": "2024-03-07T16:00:26.514Z"
   },
   {
    "duration": 4,
    "start_time": "2024-03-07T16:00:57.298Z"
   },
   {
    "duration": 1378,
    "start_time": "2024-03-07T16:01:05.961Z"
   },
   {
    "duration": 7,
    "start_time": "2024-03-07T16:01:22.353Z"
   },
   {
    "duration": 4,
    "start_time": "2024-03-07T16:02:57.706Z"
   },
   {
    "duration": 16597,
    "start_time": "2024-03-07T16:03:54.121Z"
   },
   {
    "duration": 5,
    "start_time": "2024-03-07T16:04:30.993Z"
   },
   {
    "duration": 11,
    "start_time": "2024-03-07T16:05:05.624Z"
   },
   {
    "duration": 6,
    "start_time": "2024-03-07T16:06:07.015Z"
   },
   {
    "duration": 4,
    "start_time": "2024-03-07T16:06:35.967Z"
   },
   {
    "duration": 4,
    "start_time": "2024-03-07T16:06:38.760Z"
   },
   {
    "duration": 4,
    "start_time": "2024-03-07T16:06:39.215Z"
   },
   {
    "duration": 3,
    "start_time": "2024-03-07T16:06:50.327Z"
   },
   {
    "duration": 3,
    "start_time": "2024-03-07T16:07:00.287Z"
   },
   {
    "duration": 11,
    "start_time": "2024-03-07T16:07:00.607Z"
   },
   {
    "duration": 10,
    "start_time": "2024-03-07T16:07:15.255Z"
   },
   {
    "duration": 153985,
    "start_time": "2024-03-07T16:07:31.991Z"
   },
   {
    "duration": 2,
    "start_time": "2024-03-07T16:11:22.152Z"
   },
   {
    "duration": 3,
    "start_time": "2024-03-07T16:11:23.485Z"
   },
   {
    "duration": 4,
    "start_time": "2024-03-07T16:11:24.589Z"
   },
   {
    "duration": 3,
    "start_time": "2024-03-07T16:11:25.886Z"
   },
   {
    "duration": 113,
    "start_time": "2024-03-07T16:11:26.653Z"
   },
   {
    "duration": 5,
    "start_time": "2024-03-07T16:11:27.950Z"
   },
   {
    "duration": 117631,
    "start_time": "2024-03-07T16:11:28.717Z"
   },
   {
    "duration": 17,
    "start_time": "2024-03-07T16:13:26.350Z"
   },
   {
    "duration": 0,
    "start_time": "2024-03-07T16:13:26.369Z"
   },
   {
    "duration": 0,
    "start_time": "2024-03-07T16:13:26.371Z"
   },
   {
    "duration": 0,
    "start_time": "2024-03-07T16:13:26.372Z"
   },
   {
    "duration": 0,
    "start_time": "2024-03-07T16:13:26.374Z"
   },
   {
    "duration": 104,
    "start_time": "2024-03-07T16:13:32.101Z"
   },
   {
    "duration": 5,
    "start_time": "2024-03-07T16:13:44.869Z"
   },
   {
    "duration": 4,
    "start_time": "2024-03-07T16:13:49.916Z"
   },
   {
    "duration": 3,
    "start_time": "2024-03-07T16:13:50.333Z"
   },
   {
    "duration": 110,
    "start_time": "2024-03-07T16:13:50.732Z"
   },
   {
    "duration": 5,
    "start_time": "2024-03-07T16:13:51.900Z"
   },
   {
    "duration": 127940,
    "start_time": "2024-03-07T16:13:52.836Z"
   },
   {
    "duration": 7,
    "start_time": "2024-03-07T16:16:00.778Z"
   },
   {
    "duration": 65,
    "start_time": "2024-03-07T16:16:00.787Z"
   },
   {
    "duration": 321127,
    "start_time": "2024-03-07T16:16:00.854Z"
   },
   {
    "duration": 90,
    "start_time": "2024-03-07T16:21:21.983Z"
   },
   {
    "duration": 239496,
    "start_time": "2024-03-07T16:21:22.080Z"
   },
   {
    "duration": 93,
    "start_time": "2024-03-07T16:25:21.578Z"
   },
   {
    "duration": 99,
    "start_time": "2024-03-07T16:25:21.673Z"
   },
   {
    "duration": 59,
    "start_time": "2024-03-07T16:25:29.799Z"
   },
   {
    "duration": 2,
    "start_time": "2024-03-07T16:25:30.551Z"
   },
   {
    "duration": 4,
    "start_time": "2024-03-07T16:25:32.222Z"
   },
   {
    "duration": 95,
    "start_time": "2024-03-07T16:25:32.879Z"
   },
   {
    "duration": 11,
    "start_time": "2024-03-07T16:25:33.567Z"
   },
   {
    "duration": 603,
    "start_time": "2024-03-07T16:25:36.286Z"
   },
   {
    "duration": 19958,
    "start_time": "2024-03-07T16:26:26.015Z"
   },
   {
    "duration": 19160,
    "start_time": "2024-03-07T16:26:52.318Z"
   },
   {
    "duration": 14886,
    "start_time": "2024-03-07T16:27:14.989Z"
   },
   {
    "duration": 19288,
    "start_time": "2024-03-07T16:27:31.189Z"
   },
   {
    "duration": 2,
    "start_time": "2024-03-07T16:29:45.604Z"
   },
   {
    "duration": 18406,
    "start_time": "2024-03-07T16:29:48.163Z"
   },
   {
    "duration": 3,
    "start_time": "2024-03-07T16:31:07.051Z"
   },
   {
    "duration": 1913,
    "start_time": "2024-03-07T16:31:07.056Z"
   },
   {
    "duration": 57,
    "start_time": "2024-03-07T16:31:08.971Z"
   },
   {
    "duration": 4,
    "start_time": "2024-03-07T16:31:09.030Z"
   },
   {
    "duration": 69,
    "start_time": "2024-03-07T16:31:09.036Z"
   },
   {
    "duration": 16,
    "start_time": "2024-03-07T16:31:09.107Z"
   },
   {
    "duration": 11,
    "start_time": "2024-03-07T16:31:09.124Z"
   },
   {
    "duration": 3,
    "start_time": "2024-03-07T16:31:09.137Z"
   },
   {
    "duration": 8,
    "start_time": "2024-03-07T16:31:09.141Z"
   },
   {
    "duration": 723,
    "start_time": "2024-03-07T16:31:09.150Z"
   },
   {
    "duration": 1603,
    "start_time": "2024-03-07T16:31:09.875Z"
   },
   {
    "duration": 94,
    "start_time": "2024-03-07T16:31:11.576Z"
   },
   {
    "duration": 1705,
    "start_time": "2024-03-07T16:31:11.672Z"
   },
   {
    "duration": 353,
    "start_time": "2024-03-07T16:31:13.380Z"
   },
   {
    "duration": 832,
    "start_time": "2024-03-07T16:31:13.734Z"
   },
   {
    "duration": 632,
    "start_time": "2024-03-07T16:31:14.569Z"
   },
   {
    "duration": 1775,
    "start_time": "2024-03-07T16:31:15.202Z"
   },
   {
    "duration": 1823,
    "start_time": "2024-03-07T16:31:16.979Z"
   },
   {
    "duration": 5,
    "start_time": "2024-03-07T16:31:18.803Z"
   },
   {
    "duration": 11,
    "start_time": "2024-03-07T16:31:18.809Z"
   },
   {
    "duration": 4266,
    "start_time": "2024-03-07T16:31:18.821Z"
   },
   {
    "duration": 5,
    "start_time": "2024-03-07T16:31:23.089Z"
   },
   {
    "duration": 15046,
    "start_time": "2024-03-07T16:31:23.095Z"
   },
   {
    "duration": 330,
    "start_time": "2024-03-07T16:31:38.144Z"
   },
   {
    "duration": 1324,
    "start_time": "2024-03-07T16:31:38.476Z"
   },
   {
    "duration": 6,
    "start_time": "2024-03-07T16:31:39.802Z"
   },
   {
    "duration": 9,
    "start_time": "2024-03-07T16:31:39.810Z"
   },
   {
    "duration": 16132,
    "start_time": "2024-03-07T16:31:39.821Z"
   },
   {
    "duration": 5,
    "start_time": "2024-03-07T16:31:55.955Z"
   },
   {
    "duration": 11,
    "start_time": "2024-03-07T16:31:55.970Z"
   },
   {
    "duration": 9,
    "start_time": "2024-03-07T16:31:55.983Z"
   },
   {
    "duration": 5,
    "start_time": "2024-03-07T16:31:55.994Z"
   },
   {
    "duration": 18,
    "start_time": "2024-03-07T16:31:56.001Z"
   },
   {
    "duration": 15,
    "start_time": "2024-03-07T16:31:56.020Z"
   },
   {
    "duration": 10,
    "start_time": "2024-03-07T16:31:56.038Z"
   },
   {
    "duration": 23,
    "start_time": "2024-03-07T16:31:56.050Z"
   },
   {
    "duration": 4,
    "start_time": "2024-03-07T16:31:56.074Z"
   },
   {
    "duration": 4,
    "start_time": "2024-03-07T16:31:56.080Z"
   },
   {
    "duration": 19,
    "start_time": "2024-03-07T16:31:56.086Z"
   },
   {
    "duration": 150,
    "start_time": "2024-03-07T16:31:56.106Z"
   },
   {
    "duration": 10,
    "start_time": "2024-03-07T16:31:56.261Z"
   },
   {
    "duration": 139307,
    "start_time": "2024-03-07T16:31:56.273Z"
   },
   {
    "duration": 7,
    "start_time": "2024-03-07T16:34:15.582Z"
   },
   {
    "duration": 81,
    "start_time": "2024-03-07T16:34:15.590Z"
   },
   {
    "duration": 320699,
    "start_time": "2024-03-07T16:34:15.673Z"
   },
   {
    "duration": 3,
    "start_time": "2024-03-07T16:39:36.374Z"
   },
   {
    "duration": 241897,
    "start_time": "2024-03-07T16:39:36.379Z"
   },
   {
    "duration": 3,
    "start_time": "2024-03-07T16:43:38.278Z"
   },
   {
    "duration": 94,
    "start_time": "2024-03-07T16:43:38.282Z"
   },
   {
    "duration": 58,
    "start_time": "2024-03-07T16:43:38.378Z"
   },
   {
    "duration": 3,
    "start_time": "2024-03-07T16:43:38.437Z"
   },
   {
    "duration": 31,
    "start_time": "2024-03-07T16:43:38.441Z"
   },
   {
    "duration": 296,
    "start_time": "2024-03-07T16:43:38.474Z"
   },
   {
    "duration": 100,
    "start_time": "2024-03-07T16:43:38.772Z"
   },
   {
    "duration": 614,
    "start_time": "2024-03-07T16:43:38.874Z"
   },
   {
    "duration": 155,
    "start_time": "2024-03-07T16:44:40.807Z"
   },
   {
    "duration": 3,
    "start_time": "2024-03-07T16:46:24.168Z"
   },
   {
    "duration": 1882,
    "start_time": "2024-03-07T16:46:24.173Z"
   },
   {
    "duration": 60,
    "start_time": "2024-03-07T16:46:26.056Z"
   },
   {
    "duration": 3,
    "start_time": "2024-03-07T16:46:26.118Z"
   },
   {
    "duration": 62,
    "start_time": "2024-03-07T16:46:26.124Z"
   },
   {
    "duration": 14,
    "start_time": "2024-03-07T16:46:26.188Z"
   },
   {
    "duration": 10,
    "start_time": "2024-03-07T16:46:26.203Z"
   },
   {
    "duration": 7,
    "start_time": "2024-03-07T16:46:26.214Z"
   },
   {
    "duration": 6,
    "start_time": "2024-03-07T16:46:26.222Z"
   },
   {
    "duration": 742,
    "start_time": "2024-03-07T16:46:26.231Z"
   },
   {
    "duration": 2096,
    "start_time": "2024-03-07T16:46:26.975Z"
   },
   {
    "duration": 98,
    "start_time": "2024-03-07T16:46:29.073Z"
   },
   {
    "duration": 1751,
    "start_time": "2024-03-07T16:46:29.173Z"
   },
   {
    "duration": 383,
    "start_time": "2024-03-07T16:46:30.926Z"
   },
   {
    "duration": 865,
    "start_time": "2024-03-07T16:46:31.311Z"
   },
   {
    "duration": 627,
    "start_time": "2024-03-07T16:46:32.177Z"
   },
   {
    "duration": 1767,
    "start_time": "2024-03-07T16:46:32.806Z"
   },
   {
    "duration": 1862,
    "start_time": "2024-03-07T16:46:34.575Z"
   },
   {
    "duration": 4,
    "start_time": "2024-03-07T16:46:36.440Z"
   },
   {
    "duration": 9,
    "start_time": "2024-03-07T16:46:36.445Z"
   },
   {
    "duration": 4366,
    "start_time": "2024-03-07T16:46:36.455Z"
   },
   {
    "duration": 5,
    "start_time": "2024-03-07T16:46:40.823Z"
   },
   {
    "duration": 14997,
    "start_time": "2024-03-07T16:46:40.829Z"
   },
   {
    "duration": 316,
    "start_time": "2024-03-07T16:46:55.828Z"
   },
   {
    "duration": 1351,
    "start_time": "2024-03-07T16:46:56.146Z"
   },
   {
    "duration": 5,
    "start_time": "2024-03-07T16:46:57.498Z"
   },
   {
    "duration": 21,
    "start_time": "2024-03-07T16:46:57.505Z"
   },
   {
    "duration": 16206,
    "start_time": "2024-03-07T16:46:57.530Z"
   },
   {
    "duration": 5,
    "start_time": "2024-03-07T16:47:13.737Z"
   },
   {
    "duration": 29,
    "start_time": "2024-03-07T16:47:13.744Z"
   },
   {
    "duration": 9,
    "start_time": "2024-03-07T16:47:13.775Z"
   },
   {
    "duration": 18,
    "start_time": "2024-03-07T16:47:13.785Z"
   },
   {
    "duration": 11,
    "start_time": "2024-03-07T16:47:13.804Z"
   },
   {
    "duration": 26,
    "start_time": "2024-03-07T16:47:13.817Z"
   },
   {
    "duration": 11,
    "start_time": "2024-03-07T16:47:13.845Z"
   },
   {
    "duration": 26,
    "start_time": "2024-03-07T16:47:13.857Z"
   },
   {
    "duration": 15,
    "start_time": "2024-03-07T16:47:13.885Z"
   },
   {
    "duration": 9,
    "start_time": "2024-03-07T16:47:13.902Z"
   },
   {
    "duration": 12,
    "start_time": "2024-03-07T16:47:13.912Z"
   },
   {
    "duration": 137,
    "start_time": "2024-03-07T16:47:13.925Z"
   },
   {
    "duration": 6,
    "start_time": "2024-03-07T16:47:14.064Z"
   },
   {
    "duration": 128806,
    "start_time": "2024-03-07T16:47:14.072Z"
   },
   {
    "duration": 7,
    "start_time": "2024-03-07T16:49:22.880Z"
   },
   {
    "duration": 15,
    "start_time": "2024-03-07T16:49:22.888Z"
   },
   {
    "duration": 314702,
    "start_time": "2024-03-07T16:49:22.970Z"
   },
   {
    "duration": 6,
    "start_time": "2024-03-07T16:54:37.675Z"
   },
   {
    "duration": 238286,
    "start_time": "2024-03-07T16:54:37.683Z"
   },
   {
    "duration": 4,
    "start_time": "2024-03-07T16:58:35.972Z"
   },
   {
    "duration": 96,
    "start_time": "2024-03-07T16:58:35.977Z"
   },
   {
    "duration": 59,
    "start_time": "2024-03-07T16:58:36.074Z"
   },
   {
    "duration": 3,
    "start_time": "2024-03-07T16:58:36.134Z"
   },
   {
    "duration": 6,
    "start_time": "2024-03-07T16:58:36.139Z"
   },
   {
    "duration": 424,
    "start_time": "2024-03-07T16:58:36.146Z"
   },
   {
    "duration": 100,
    "start_time": "2024-03-07T16:58:36.573Z"
   },
   {
    "duration": 740,
    "start_time": "2024-03-07T16:58:36.675Z"
   },
   {
    "duration": 62221,
    "start_time": "2024-03-07T18:17:02.680Z"
   },
   {
    "duration": 2028,
    "start_time": "2024-03-07T18:18:04.903Z"
   },
   {
    "duration": 57,
    "start_time": "2024-03-07T18:18:06.933Z"
   },
   {
    "duration": 4,
    "start_time": "2024-03-07T18:18:06.991Z"
   },
   {
    "duration": 145,
    "start_time": "2024-03-07T18:18:06.997Z"
   },
   {
    "duration": 16,
    "start_time": "2024-03-07T18:18:07.144Z"
   },
   {
    "duration": 10,
    "start_time": "2024-03-07T18:18:07.162Z"
   },
   {
    "duration": 3,
    "start_time": "2024-03-07T18:18:07.174Z"
   },
   {
    "duration": 12,
    "start_time": "2024-03-07T18:18:07.179Z"
   },
   {
    "duration": 796,
    "start_time": "2024-03-07T18:18:07.192Z"
   },
   {
    "duration": 2209,
    "start_time": "2024-03-07T18:18:07.989Z"
   },
   {
    "duration": 93,
    "start_time": "2024-03-07T18:18:10.200Z"
   },
   {
    "duration": 1875,
    "start_time": "2024-03-07T18:18:10.295Z"
   },
   {
    "duration": 482,
    "start_time": "2024-03-07T18:18:12.173Z"
   },
   {
    "duration": 864,
    "start_time": "2024-03-07T18:18:12.656Z"
   },
   {
    "duration": 679,
    "start_time": "2024-03-07T18:18:13.522Z"
   },
   {
    "duration": 2090,
    "start_time": "2024-03-07T18:18:14.203Z"
   },
   {
    "duration": 1828,
    "start_time": "2024-03-07T18:18:16.296Z"
   },
   {
    "duration": 6,
    "start_time": "2024-03-07T18:18:18.126Z"
   },
   {
    "duration": 8,
    "start_time": "2024-03-07T18:18:18.134Z"
   },
   {
    "duration": 6,
    "start_time": "2024-03-07T18:18:59.980Z"
   },
   {
    "duration": 4,
    "start_time": "2024-03-07T18:22:07.272Z"
   },
   {
    "duration": 147,
    "start_time": "2024-03-07T18:22:13.348Z"
   },
   {
    "duration": 4,
    "start_time": "2024-03-07T18:22:20.149Z"
   },
   {
    "duration": 88,
    "start_time": "2024-03-07T18:22:22.440Z"
   },
   {
    "duration": 11,
    "start_time": "2024-03-07T18:23:07.495Z"
   },
   {
    "duration": 11,
    "start_time": "2024-03-07T18:23:13.925Z"
   },
   {
    "duration": 4,
    "start_time": "2024-03-07T18:23:28.157Z"
   },
   {
    "duration": 148,
    "start_time": "2024-03-07T18:23:30.742Z"
   },
   {
    "duration": 7,
    "start_time": "2024-03-07T18:23:37.013Z"
   },
   {
    "duration": 7,
    "start_time": "2024-03-07T18:23:52.352Z"
   },
   {
    "duration": 55,
    "start_time": "2024-03-07T18:23:56.184Z"
   },
   {
    "duration": 14,
    "start_time": "2024-03-07T18:24:06.708Z"
   },
   {
    "duration": 82,
    "start_time": "2024-03-07T18:24:35.120Z"
   },
   {
    "duration": 4,
    "start_time": "2024-03-07T18:24:51.052Z"
   },
   {
    "duration": 16,
    "start_time": "2024-03-07T18:24:54.414Z"
   },
   {
    "duration": 12,
    "start_time": "2024-03-07T18:25:31.740Z"
   },
   {
    "duration": 9,
    "start_time": "2024-03-07T18:25:38.452Z"
   },
   {
    "duration": 20984,
    "start_time": "2024-03-07T18:26:45.510Z"
   },
   {
    "duration": 2024,
    "start_time": "2024-03-07T18:27:06.496Z"
   },
   {
    "duration": 59,
    "start_time": "2024-03-07T18:27:08.522Z"
   },
   {
    "duration": 4,
    "start_time": "2024-03-07T18:27:08.583Z"
   },
   {
    "duration": 72,
    "start_time": "2024-03-07T18:27:08.588Z"
   },
   {
    "duration": 17,
    "start_time": "2024-03-07T18:27:08.661Z"
   },
   {
    "duration": 13,
    "start_time": "2024-03-07T18:27:08.679Z"
   },
   {
    "duration": 3,
    "start_time": "2024-03-07T18:27:08.694Z"
   },
   {
    "duration": 4,
    "start_time": "2024-03-07T18:27:08.698Z"
   },
   {
    "duration": 756,
    "start_time": "2024-03-07T18:27:08.704Z"
   },
   {
    "duration": 2034,
    "start_time": "2024-03-07T18:27:09.462Z"
   },
   {
    "duration": 94,
    "start_time": "2024-03-07T18:27:11.501Z"
   },
   {
    "duration": 1903,
    "start_time": "2024-03-07T18:27:11.599Z"
   },
   {
    "duration": 364,
    "start_time": "2024-03-07T18:27:13.504Z"
   },
   {
    "duration": 887,
    "start_time": "2024-03-07T18:27:13.869Z"
   },
   {
    "duration": 688,
    "start_time": "2024-03-07T18:27:14.758Z"
   },
   {
    "duration": 2147,
    "start_time": "2024-03-07T18:27:15.448Z"
   },
   {
    "duration": 1907,
    "start_time": "2024-03-07T18:27:17.600Z"
   },
   {
    "duration": 5,
    "start_time": "2024-03-07T18:27:19.508Z"
   },
   {
    "duration": 48,
    "start_time": "2024-03-07T18:27:19.515Z"
   },
   {
    "duration": 4602,
    "start_time": "2024-03-07T18:27:19.564Z"
   },
   {
    "duration": 5,
    "start_time": "2024-03-07T18:27:24.168Z"
   },
   {
    "duration": 15587,
    "start_time": "2024-03-07T18:27:24.175Z"
   },
   {
    "duration": 342,
    "start_time": "2024-03-07T18:27:39.764Z"
   },
   {
    "duration": 1385,
    "start_time": "2024-03-07T18:27:40.107Z"
   },
   {
    "duration": 6,
    "start_time": "2024-03-07T18:27:41.494Z"
   },
   {
    "duration": 14,
    "start_time": "2024-03-07T18:27:41.502Z"
   },
   {
    "duration": 186,
    "start_time": "2024-03-07T18:27:41.517Z"
   },
   {
    "duration": 12,
    "start_time": "2024-03-07T18:28:46.999Z"
   },
   {
    "duration": 21611,
    "start_time": "2024-03-07T18:29:06.673Z"
   },
   {
    "duration": 2106,
    "start_time": "2024-03-07T18:29:28.286Z"
   },
   {
    "duration": 58,
    "start_time": "2024-03-07T18:29:30.396Z"
   },
   {
    "duration": 282,
    "start_time": "2024-03-07T18:29:30.456Z"
   },
   {
    "duration": 931,
    "start_time": "2024-03-07T18:29:30.740Z"
   },
   {
    "duration": 325,
    "start_time": "2024-03-07T18:29:31.673Z"
   },
   {
    "duration": 40,
    "start_time": "2024-03-07T18:29:32.000Z"
   },
   {
    "duration": 27,
    "start_time": "2024-03-07T18:29:32.041Z"
   },
   {
    "duration": 7,
    "start_time": "2024-03-07T18:29:32.070Z"
   },
   {
    "duration": 823,
    "start_time": "2024-03-07T18:29:32.080Z"
   },
   {
    "duration": 3906,
    "start_time": "2024-03-07T18:29:32.905Z"
   },
   {
    "duration": 86,
    "start_time": "2024-03-07T18:29:36.813Z"
   },
   {
    "duration": 2141,
    "start_time": "2024-03-07T18:29:36.901Z"
   },
   {
    "duration": 420,
    "start_time": "2024-03-07T18:29:39.044Z"
   },
   {
    "duration": 975,
    "start_time": "2024-03-07T18:29:39.466Z"
   },
   {
    "duration": 749,
    "start_time": "2024-03-07T18:29:40.442Z"
   },
   {
    "duration": 3406,
    "start_time": "2024-03-07T18:29:41.204Z"
   },
   {
    "duration": 1946,
    "start_time": "2024-03-07T18:29:44.702Z"
   },
   {
    "duration": 6,
    "start_time": "2024-03-07T18:29:46.649Z"
   },
   {
    "duration": 30,
    "start_time": "2024-03-07T18:29:46.656Z"
   },
   {
    "duration": 4725,
    "start_time": "2024-03-07T18:29:46.688Z"
   },
   {
    "duration": 6,
    "start_time": "2024-03-07T18:29:51.415Z"
   },
   {
    "duration": 17033,
    "start_time": "2024-03-07T18:29:51.423Z"
   },
   {
    "duration": 355,
    "start_time": "2024-03-07T18:30:08.458Z"
   },
   {
    "duration": 1371,
    "start_time": "2024-03-07T18:30:08.815Z"
   },
   {
    "duration": 22,
    "start_time": "2024-03-07T18:30:10.187Z"
   },
   {
    "duration": 20,
    "start_time": "2024-03-07T18:30:10.211Z"
   },
   {
    "duration": 186,
    "start_time": "2024-03-07T18:30:10.235Z"
   },
   {
    "duration": 0,
    "start_time": "2024-03-07T18:30:10.422Z"
   },
   {
    "duration": 0,
    "start_time": "2024-03-07T18:30:10.423Z"
   },
   {
    "duration": 17674,
    "start_time": "2024-03-07T18:31:26.111Z"
   },
   {
    "duration": 10,
    "start_time": "2024-03-07T18:31:43.793Z"
   },
   {
    "duration": 12,
    "start_time": "2024-03-07T18:31:51.068Z"
   },
   {
    "duration": 5,
    "start_time": "2024-03-07T18:31:53.559Z"
   },
   {
    "duration": 5,
    "start_time": "2024-03-07T18:31:54.614Z"
   },
   {
    "duration": 3,
    "start_time": "2024-03-07T18:31:56.154Z"
   },
   {
    "duration": 18,
    "start_time": "2024-03-07T18:31:57.993Z"
   },
   {
    "duration": 11,
    "start_time": "2024-03-07T18:32:17.934Z"
   },
   {
    "duration": 4,
    "start_time": "2024-03-07T18:32:22.236Z"
   },
   {
    "duration": 4,
    "start_time": "2024-03-07T18:32:25.773Z"
   },
   {
    "duration": 136,
    "start_time": "2024-03-07T18:32:26.453Z"
   },
   {
    "duration": 6,
    "start_time": "2024-03-07T18:32:27.935Z"
   },
   {
    "duration": 154768,
    "start_time": "2024-03-07T18:32:29.501Z"
   },
   {
    "duration": 19,
    "start_time": "2024-03-07T18:35:04.271Z"
   },
   {
    "duration": 0,
    "start_time": "2024-03-07T18:35:04.292Z"
   },
   {
    "duration": 0,
    "start_time": "2024-03-07T18:35:04.293Z"
   },
   {
    "duration": 0,
    "start_time": "2024-03-07T18:35:04.295Z"
   },
   {
    "duration": 14,
    "start_time": "2024-03-07T18:35:18.893Z"
   },
   {
    "duration": 8,
    "start_time": "2024-03-07T18:35:51.673Z"
   },
   {
    "duration": 341452,
    "start_time": "2024-03-07T18:35:52.454Z"
   },
   {
    "duration": 87,
    "start_time": "2024-03-07T18:41:33.909Z"
   },
   {
    "duration": 3,
    "start_time": "2024-03-07T19:08:16.935Z"
   },
   {
    "duration": 4,
    "start_time": "2024-03-10T10:09:54.758Z"
   },
   {
    "duration": 727,
    "start_time": "2024-03-10T10:09:54.764Z"
   },
   {
    "duration": 0,
    "start_time": "2024-03-10T10:09:55.493Z"
   },
   {
    "duration": 0,
    "start_time": "2024-03-10T10:09:55.495Z"
   },
   {
    "duration": 0,
    "start_time": "2024-03-10T10:09:55.497Z"
   },
   {
    "duration": 0,
    "start_time": "2024-03-10T10:09:55.498Z"
   },
   {
    "duration": 0,
    "start_time": "2024-03-10T10:09:55.500Z"
   },
   {
    "duration": 0,
    "start_time": "2024-03-10T10:09:55.502Z"
   },
   {
    "duration": 0,
    "start_time": "2024-03-10T10:09:55.503Z"
   },
   {
    "duration": 0,
    "start_time": "2024-03-10T10:09:55.504Z"
   },
   {
    "duration": 57996,
    "start_time": "2024-03-10T10:10:31.352Z"
   },
   {
    "duration": 4,
    "start_time": "2024-03-10T10:11:56.311Z"
   },
   {
    "duration": 1495,
    "start_time": "2024-03-10T10:11:59.329Z"
   },
   {
    "duration": 6099,
    "start_time": "2024-03-10T10:12:16.094Z"
   },
   {
    "duration": 3,
    "start_time": "2024-03-10T10:12:29.046Z"
   },
   {
    "duration": 134,
    "start_time": "2024-03-10T10:12:29.854Z"
   },
   {
    "duration": 5,
    "start_time": "2024-03-10T10:12:40.247Z"
   },
   {
    "duration": 54,
    "start_time": "2024-03-10T10:12:40.847Z"
   },
   {
    "duration": 4,
    "start_time": "2024-03-10T10:12:42.094Z"
   },
   {
    "duration": 145,
    "start_time": "2024-03-10T10:12:43.503Z"
   },
   {
    "duration": 17,
    "start_time": "2024-03-10T10:12:44.134Z"
   },
   {
    "duration": 12,
    "start_time": "2024-03-10T10:12:45.430Z"
   },
   {
    "duration": 4,
    "start_time": "2024-03-10T10:12:47.847Z"
   },
   {
    "duration": 4,
    "start_time": "2024-03-10T10:12:49.670Z"
   },
   {
    "duration": 473,
    "start_time": "2024-03-10T10:12:51.342Z"
   },
   {
    "duration": 2171,
    "start_time": "2024-03-10T10:12:58.510Z"
   },
   {
    "duration": 3,
    "start_time": "2024-03-10T10:13:13.526Z"
   },
   {
    "duration": 4,
    "start_time": "2024-03-10T10:13:14.158Z"
   },
   {
    "duration": 570,
    "start_time": "2024-03-10T10:13:14.654Z"
   },
   {
    "duration": 4071,
    "start_time": "2024-03-10T10:13:16.421Z"
   },
   {
    "duration": 8,
    "start_time": "2024-03-10T10:14:06.302Z"
   },
   {
    "duration": 1078,
    "start_time": "2024-03-10T10:14:06.958Z"
   },
   {
    "duration": 218,
    "start_time": "2024-03-10T10:14:08.981Z"
   },
   {
    "duration": 562,
    "start_time": "2024-03-10T10:14:36.086Z"
   },
   {
    "duration": 479,
    "start_time": "2024-03-10T10:14:41.917Z"
   },
   {
    "duration": 2193,
    "start_time": "2024-03-10T10:14:45.997Z"
   },
   {
    "duration": 1232,
    "start_time": "2024-03-10T10:14:48.193Z"
   },
   {
    "duration": 5,
    "start_time": "2024-03-10T10:14:49.427Z"
   },
   {
    "duration": 7,
    "start_time": "2024-03-10T10:14:49.685Z"
   },
   {
    "duration": 2524,
    "start_time": "2024-03-10T10:14:53.485Z"
   },
   {
    "duration": 7,
    "start_time": "2024-03-10T10:14:58.885Z"
   },
   {
    "duration": 10680,
    "start_time": "2024-03-10T10:14:59.396Z"
   },
   {
    "duration": 333,
    "start_time": "2024-03-10T10:15:12.942Z"
   },
   {
    "duration": 1486,
    "start_time": "2024-03-10T10:15:13.789Z"
   },
   {
    "duration": 7,
    "start_time": "2024-03-10T10:15:15.796Z"
   },
   {
    "duration": 23746,
    "start_time": "2024-03-10T10:15:18.453Z"
   },
   {
    "duration": 6,
    "start_time": "2024-03-10T10:15:44.789Z"
   },
   {
    "duration": 11,
    "start_time": "2024-03-10T10:15:45.940Z"
   },
   {
    "duration": 5,
    "start_time": "2024-03-10T10:15:51.925Z"
   },
   {
    "duration": 6,
    "start_time": "2024-03-10T10:15:53.980Z"
   },
   {
    "duration": 3,
    "start_time": "2024-03-10T10:15:54.636Z"
   },
   {
    "duration": 11,
    "start_time": "2024-03-10T10:15:55.251Z"
   },
   {
    "duration": 9,
    "start_time": "2024-03-10T10:15:58.012Z"
   },
   {
    "duration": 95,
    "start_time": "2024-03-10T10:16:04.396Z"
   },
   {
    "duration": 6,
    "start_time": "2024-03-10T10:16:53.052Z"
   },
   {
    "duration": 9,
    "start_time": "2024-03-10T10:17:07.900Z"
   },
   {
    "duration": 179090,
    "start_time": "2024-03-10T10:17:09.009Z"
   },
   {
    "duration": 3,
    "start_time": "2024-03-10T10:20:36.121Z"
   },
   {
    "duration": 4,
    "start_time": "2024-03-10T10:20:36.889Z"
   },
   {
    "duration": 10,
    "start_time": "2024-03-10T10:20:53.260Z"
   },
   {
    "duration": 174374,
    "start_time": "2024-03-10T10:20:56.218Z"
   },
   {
    "duration": 389809,
    "start_time": "2024-03-10T10:23:58.527Z"
   },
   {
    "duration": 0,
    "start_time": "2024-03-10T10:30:28.339Z"
   },
   {
    "duration": 0,
    "start_time": "2024-03-10T10:30:28.340Z"
   },
   {
    "duration": 0,
    "start_time": "2024-03-10T10:30:28.341Z"
   },
   {
    "duration": 0,
    "start_time": "2024-03-10T10:30:28.343Z"
   },
   {
    "duration": 0,
    "start_time": "2024-03-10T10:30:28.345Z"
   },
   {
    "duration": 0,
    "start_time": "2024-03-10T10:30:28.346Z"
   },
   {
    "duration": 0,
    "start_time": "2024-03-10T10:30:28.347Z"
   },
   {
    "duration": 0,
    "start_time": "2024-03-10T10:30:28.348Z"
   },
   {
    "duration": 0,
    "start_time": "2024-03-10T10:30:28.379Z"
   },
   {
    "duration": 0,
    "start_time": "2024-03-10T10:30:28.381Z"
   },
   {
    "duration": 0,
    "start_time": "2024-03-10T10:30:28.383Z"
   },
   {
    "duration": 0,
    "start_time": "2024-03-10T10:30:28.384Z"
   },
   {
    "duration": 0,
    "start_time": "2024-03-10T10:30:28.386Z"
   },
   {
    "duration": 0,
    "start_time": "2024-03-10T10:30:28.387Z"
   },
   {
    "duration": 6,
    "start_time": "2024-03-10T10:30:32.738Z"
   },
   {
    "duration": 5,
    "start_time": "2024-03-10T10:30:32.963Z"
   },
   {
    "duration": 4,
    "start_time": "2024-03-10T10:30:37.868Z"
   },
   {
    "duration": 4,
    "start_time": "2024-03-10T10:30:45.052Z"
   },
   {
    "duration": 3,
    "start_time": "2024-03-10T10:30:46.219Z"
   },
   {
    "duration": 135,
    "start_time": "2024-03-10T10:30:46.796Z"
   },
   {
    "duration": 5,
    "start_time": "2024-03-10T10:30:48.123Z"
   },
   {
    "duration": 615243,
    "start_time": "2024-03-10T10:30:48.915Z"
   },
   {
    "duration": 20,
    "start_time": "2024-03-10T10:41:04.160Z"
   },
   {
    "duration": 0,
    "start_time": "2024-03-10T10:41:04.182Z"
   },
   {
    "duration": 0,
    "start_time": "2024-03-10T10:41:04.183Z"
   },
   {
    "duration": 0,
    "start_time": "2024-03-10T10:41:04.184Z"
   },
   {
    "duration": 0,
    "start_time": "2024-03-10T10:41:04.185Z"
   },
   {
    "duration": 0,
    "start_time": "2024-03-10T10:41:04.186Z"
   },
   {
    "duration": 0,
    "start_time": "2024-03-10T10:41:04.187Z"
   },
   {
    "duration": 0,
    "start_time": "2024-03-10T10:41:04.188Z"
   },
   {
    "duration": 0,
    "start_time": "2024-03-10T10:41:04.189Z"
   },
   {
    "duration": 0,
    "start_time": "2024-03-10T10:41:04.191Z"
   },
   {
    "duration": 0,
    "start_time": "2024-03-10T10:41:04.192Z"
   },
   {
    "duration": 0,
    "start_time": "2024-03-10T10:41:04.193Z"
   },
   {
    "duration": 3,
    "start_time": "2024-03-10T10:41:11.533Z"
   },
   {
    "duration": 3,
    "start_time": "2024-03-10T10:41:22.173Z"
   },
   {
    "duration": 3,
    "start_time": "2024-03-10T10:49:07.832Z"
   },
   {
    "duration": 14,
    "start_time": "2024-03-10T10:49:07.836Z"
   },
   {
    "duration": 83,
    "start_time": "2024-03-10T10:49:07.851Z"
   },
   {
    "duration": 4,
    "start_time": "2024-03-10T10:49:07.936Z"
   },
   {
    "duration": 50,
    "start_time": "2024-03-10T10:49:07.942Z"
   },
   {
    "duration": 11,
    "start_time": "2024-03-10T10:49:07.994Z"
   },
   {
    "duration": 5,
    "start_time": "2024-03-10T10:49:08.007Z"
   },
   {
    "duration": 11,
    "start_time": "2024-03-10T10:49:08.013Z"
   },
   {
    "duration": 14,
    "start_time": "2024-03-10T10:49:08.025Z"
   },
   {
    "duration": 411,
    "start_time": "2024-03-10T10:49:08.041Z"
   },
   {
    "duration": 1633,
    "start_time": "2024-03-10T10:49:08.454Z"
   },
   {
    "duration": 91,
    "start_time": "2024-03-10T10:49:10.090Z"
   },
   {
    "duration": 1213,
    "start_time": "2024-03-10T10:49:10.184Z"
   },
   {
    "duration": 171,
    "start_time": "2024-03-10T10:49:11.399Z"
   },
   {
    "duration": 428,
    "start_time": "2024-03-10T10:49:11.572Z"
   },
   {
    "duration": 435,
    "start_time": "2024-03-10T10:49:12.001Z"
   },
   {
    "duration": 1550,
    "start_time": "2024-03-10T10:49:12.438Z"
   },
   {
    "duration": 1137,
    "start_time": "2024-03-10T10:49:13.990Z"
   },
   {
    "duration": 5,
    "start_time": "2024-03-10T10:49:15.129Z"
   },
   {
    "duration": 38,
    "start_time": "2024-03-10T10:49:15.135Z"
   },
   {
    "duration": 2406,
    "start_time": "2024-03-10T10:49:15.175Z"
   },
   {
    "duration": 5,
    "start_time": "2024-03-10T10:49:17.583Z"
   },
   {
    "duration": 10051,
    "start_time": "2024-03-10T10:49:17.590Z"
   },
   {
    "duration": 345,
    "start_time": "2024-03-10T10:49:27.642Z"
   },
   {
    "duration": 1249,
    "start_time": "2024-03-10T10:49:27.988Z"
   },
   {
    "duration": 5,
    "start_time": "2024-03-10T10:49:29.239Z"
   },
   {
    "duration": 21523,
    "start_time": "2024-03-10T10:49:29.246Z"
   },
   {
    "duration": 5,
    "start_time": "2024-03-10T10:49:50.781Z"
   },
   {
    "duration": 28,
    "start_time": "2024-03-10T10:49:50.787Z"
   },
   {
    "duration": 15,
    "start_time": "2024-03-10T10:49:50.816Z"
   },
   {
    "duration": 16,
    "start_time": "2024-03-10T10:49:50.833Z"
   },
   {
    "duration": 9,
    "start_time": "2024-03-10T10:49:50.851Z"
   },
   {
    "duration": 17,
    "start_time": "2024-03-10T10:49:50.861Z"
   },
   {
    "duration": 9,
    "start_time": "2024-03-10T10:49:50.880Z"
   },
   {
    "duration": 26,
    "start_time": "2024-03-10T10:49:50.891Z"
   },
   {
    "duration": 43,
    "start_time": "2024-03-10T10:49:50.919Z"
   },
   {
    "duration": 21,
    "start_time": "2024-03-10T10:49:50.963Z"
   },
   {
    "duration": 15,
    "start_time": "2024-03-10T10:49:50.985Z"
   },
   {
    "duration": 130,
    "start_time": "2024-03-10T10:49:51.002Z"
   },
   {
    "duration": 4,
    "start_time": "2024-03-10T10:49:51.134Z"
   },
   {
    "duration": 1343,
    "start_time": "2024-03-10T10:49:51.140Z"
   },
   {
    "duration": 95,
    "start_time": "2024-03-10T10:49:52.485Z"
   },
   {
    "duration": 20,
    "start_time": "2024-03-10T10:49:52.582Z"
   },
   {
    "duration": 367177,
    "start_time": "2024-03-10T10:49:52.604Z"
   },
   {
    "duration": 8,
    "start_time": "2024-03-10T10:55:59.794Z"
   },
   {
    "duration": 252292,
    "start_time": "2024-03-10T10:55:59.892Z"
   },
   {
    "duration": 10,
    "start_time": "2024-03-10T11:00:12.186Z"
   },
   {
    "duration": 81,
    "start_time": "2024-03-10T11:00:12.199Z"
   },
   {
    "duration": 57,
    "start_time": "2024-03-10T11:00:12.282Z"
   },
   {
    "duration": 3,
    "start_time": "2024-03-10T11:00:12.340Z"
   },
   {
    "duration": 237,
    "start_time": "2024-03-10T11:00:12.345Z"
   },
   {
    "duration": 111,
    "start_time": "2024-03-10T11:00:12.585Z"
   },
   {
    "duration": 409,
    "start_time": "2024-03-10T11:00:12.698Z"
   },
   {
    "duration": 63,
    "start_time": "2024-03-10T11:06:45.537Z"
   },
   {
    "duration": 2,
    "start_time": "2024-03-10T11:06:51.767Z"
   },
   {
    "duration": 2,
    "start_time": "2024-03-10T11:07:12.206Z"
   },
   {
    "duration": 2132,
    "start_time": "2024-03-10T11:07:12.210Z"
   },
   {
    "duration": 60,
    "start_time": "2024-03-10T11:07:14.344Z"
   },
   {
    "duration": 6,
    "start_time": "2024-03-10T11:07:14.405Z"
   },
   {
    "duration": 62,
    "start_time": "2024-03-10T11:07:14.412Z"
   },
   {
    "duration": 26,
    "start_time": "2024-03-10T11:07:14.475Z"
   },
   {
    "duration": 10,
    "start_time": "2024-03-10T11:07:14.503Z"
   },
   {
    "duration": 4,
    "start_time": "2024-03-10T11:07:14.515Z"
   },
   {
    "duration": 6,
    "start_time": "2024-03-10T11:07:14.522Z"
   },
   {
    "duration": 828,
    "start_time": "2024-03-10T11:07:14.529Z"
   },
   {
    "duration": 1638,
    "start_time": "2024-03-10T11:07:15.359Z"
   },
   {
    "duration": 88,
    "start_time": "2024-03-10T11:07:17.001Z"
   },
   {
    "duration": 1940,
    "start_time": "2024-03-10T11:07:17.096Z"
   },
   {
    "duration": 407,
    "start_time": "2024-03-10T11:07:19.038Z"
   },
   {
    "duration": 886,
    "start_time": "2024-03-10T11:07:19.447Z"
   },
   {
    "duration": 712,
    "start_time": "2024-03-10T11:07:20.334Z"
   },
   {
    "duration": 1839,
    "start_time": "2024-03-10T11:07:21.048Z"
   },
   {
    "duration": 1966,
    "start_time": "2024-03-10T11:07:22.892Z"
   },
   {
    "duration": 5,
    "start_time": "2024-03-10T11:07:24.860Z"
   },
   {
    "duration": 22,
    "start_time": "2024-03-10T11:07:24.866Z"
   },
   {
    "duration": 2498,
    "start_time": "2024-03-10T11:07:24.891Z"
   },
   {
    "duration": 6,
    "start_time": "2024-03-10T11:07:27.392Z"
   },
   {
    "duration": 10262,
    "start_time": "2024-03-10T11:07:27.400Z"
   },
   {
    "duration": 346,
    "start_time": "2024-03-10T11:07:37.667Z"
   },
   {
    "duration": 1288,
    "start_time": "2024-03-10T11:07:38.015Z"
   },
   {
    "duration": 6,
    "start_time": "2024-03-10T11:07:39.305Z"
   },
   {
    "duration": 23271,
    "start_time": "2024-03-10T11:07:39.312Z"
   },
   {
    "duration": 8,
    "start_time": "2024-03-10T11:08:02.586Z"
   },
   {
    "duration": 162,
    "start_time": "2024-03-10T11:08:02.596Z"
   },
   {
    "duration": 26,
    "start_time": "2024-03-10T11:08:02.760Z"
   },
   {
    "duration": 99,
    "start_time": "2024-03-10T11:08:02.789Z"
   },
   {
    "duration": 36,
    "start_time": "2024-03-10T11:08:02.889Z"
   },
   {
    "duration": 53,
    "start_time": "2024-03-10T11:08:02.926Z"
   },
   {
    "duration": 44,
    "start_time": "2024-03-10T11:08:02.981Z"
   },
   {
    "duration": 41,
    "start_time": "2024-03-10T11:08:03.027Z"
   },
   {
    "duration": 36,
    "start_time": "2024-03-10T11:08:03.070Z"
   },
   {
    "duration": 33,
    "start_time": "2024-03-10T11:08:03.108Z"
   },
   {
    "duration": 40,
    "start_time": "2024-03-10T11:08:03.143Z"
   },
   {
    "duration": 168,
    "start_time": "2024-03-10T11:08:03.184Z"
   },
   {
    "duration": 5,
    "start_time": "2024-03-10T11:08:03.354Z"
   },
   {
    "duration": 1533,
    "start_time": "2024-03-10T11:08:03.361Z"
   },
   {
    "duration": 89,
    "start_time": "2024-03-10T11:08:04.896Z"
   },
   {
    "duration": 9,
    "start_time": "2024-03-10T11:08:04.990Z"
   },
   {
    "duration": 380985,
    "start_time": "2024-03-10T11:08:05.001Z"
   },
   {
    "duration": 6,
    "start_time": "2024-03-10T11:14:25.992Z"
   },
   {
    "duration": 249188,
    "start_time": "2024-03-10T11:14:26.001Z"
   },
   {
    "duration": 3,
    "start_time": "2024-03-10T11:18:35.281Z"
   },
   {
    "duration": 14,
    "start_time": "2024-03-10T11:18:35.286Z"
   },
   {
    "duration": 60,
    "start_time": "2024-03-10T11:18:35.302Z"
   },
   {
    "duration": 17,
    "start_time": "2024-03-10T11:18:35.364Z"
   },
   {
    "duration": 298,
    "start_time": "2024-03-10T11:18:35.383Z"
   },
   {
    "duration": 99,
    "start_time": "2024-03-10T11:18:35.684Z"
   },
   {
    "duration": 730,
    "start_time": "2024-03-10T11:18:35.785Z"
   },
   {
    "duration": 18,
    "start_time": "2024-03-10T11:20:08.979Z"
   },
   {
    "duration": 3,
    "start_time": "2024-03-10T11:26:20.819Z"
   },
   {
    "duration": 2281,
    "start_time": "2024-03-10T11:26:20.825Z"
   },
   {
    "duration": 63,
    "start_time": "2024-03-10T11:26:23.108Z"
   },
   {
    "duration": 4,
    "start_time": "2024-03-10T11:26:23.172Z"
   },
   {
    "duration": 57,
    "start_time": "2024-03-10T11:26:23.178Z"
   },
   {
    "duration": 22,
    "start_time": "2024-03-10T11:26:23.238Z"
   },
   {
    "duration": 9,
    "start_time": "2024-03-10T11:26:23.262Z"
   },
   {
    "duration": 4,
    "start_time": "2024-03-10T11:26:23.272Z"
   },
   {
    "duration": 8,
    "start_time": "2024-03-10T11:26:23.279Z"
   },
   {
    "duration": 924,
    "start_time": "2024-03-10T11:26:23.290Z"
   },
   {
    "duration": 3276,
    "start_time": "2024-03-10T11:26:24.216Z"
   },
   {
    "duration": 88,
    "start_time": "2024-03-10T11:26:27.494Z"
   },
   {
    "duration": 2154,
    "start_time": "2024-03-10T11:26:27.584Z"
   },
   {
    "duration": 466,
    "start_time": "2024-03-10T11:26:29.741Z"
   },
   {
    "duration": 985,
    "start_time": "2024-03-10T11:26:30.210Z"
   },
   {
    "duration": 760,
    "start_time": "2024-03-10T11:26:31.197Z"
   },
   {
    "duration": 2423,
    "start_time": "2024-03-10T11:26:31.959Z"
   },
   {
    "duration": 2011,
    "start_time": "2024-03-10T11:26:34.390Z"
   },
   {
    "duration": 6,
    "start_time": "2024-03-10T11:26:36.403Z"
   },
   {
    "duration": 54,
    "start_time": "2024-03-10T11:26:36.411Z"
   },
   {
    "duration": 2467,
    "start_time": "2024-03-10T11:26:36.466Z"
   },
   {
    "duration": 6,
    "start_time": "2024-03-10T11:26:38.936Z"
   },
   {
    "duration": 10513,
    "start_time": "2024-03-10T11:26:38.944Z"
   },
   {
    "duration": 354,
    "start_time": "2024-03-10T11:26:49.459Z"
   },
   {
    "duration": 1368,
    "start_time": "2024-03-10T11:26:49.815Z"
   },
   {
    "duration": 9,
    "start_time": "2024-03-10T11:26:51.187Z"
   },
   {
    "duration": 24763,
    "start_time": "2024-03-10T11:26:51.198Z"
   },
   {
    "duration": 5,
    "start_time": "2024-03-10T11:27:15.962Z"
   },
   {
    "duration": 26,
    "start_time": "2024-03-10T11:27:15.968Z"
   },
   {
    "duration": 7,
    "start_time": "2024-03-10T11:27:15.995Z"
   },
   {
    "duration": 15,
    "start_time": "2024-03-10T11:27:16.005Z"
   },
   {
    "duration": 16,
    "start_time": "2024-03-10T11:27:16.022Z"
   },
   {
    "duration": 36,
    "start_time": "2024-03-10T11:27:16.041Z"
   },
   {
    "duration": 30,
    "start_time": "2024-03-10T11:27:16.078Z"
   },
   {
    "duration": 19,
    "start_time": "2024-03-10T11:27:16.110Z"
   },
   {
    "duration": 6,
    "start_time": "2024-03-10T11:27:16.131Z"
   },
   {
    "duration": 23,
    "start_time": "2024-03-10T11:27:16.139Z"
   },
   {
    "duration": 32,
    "start_time": "2024-03-10T11:27:16.164Z"
   },
   {
    "duration": 183,
    "start_time": "2024-03-10T11:27:16.198Z"
   },
   {
    "duration": 6,
    "start_time": "2024-03-10T11:27:16.383Z"
   },
   {
    "duration": 1489,
    "start_time": "2024-03-10T11:27:16.394Z"
   },
   {
    "duration": 96,
    "start_time": "2024-03-10T11:27:17.885Z"
   },
   {
    "duration": 10,
    "start_time": "2024-03-10T11:27:17.983Z"
   },
   {
    "duration": 323307,
    "start_time": "2024-03-10T11:27:17.995Z"
   },
   {
    "duration": 75,
    "start_time": "2024-03-10T11:32:41.304Z"
   },
   {
    "duration": 211003,
    "start_time": "2024-03-10T11:32:41.382Z"
   },
   {
    "duration": 4,
    "start_time": "2024-03-10T11:36:12.387Z"
   },
   {
    "duration": 127,
    "start_time": "2024-03-10T11:36:12.395Z"
   },
   {
    "duration": 74,
    "start_time": "2024-03-10T11:36:12.525Z"
   },
   {
    "duration": 3,
    "start_time": "2024-03-10T11:36:12.602Z"
   },
   {
    "duration": 283,
    "start_time": "2024-03-10T11:36:12.608Z"
   },
   {
    "duration": 102,
    "start_time": "2024-03-10T11:36:12.896Z"
   },
   {
    "duration": 803,
    "start_time": "2024-03-10T11:36:13.010Z"
   }
  ],
  "kernelspec": {
   "display_name": "Python 3 (ipykernel)",
   "language": "python",
   "name": "python3"
  },
  "language_info": {
   "codemirror_mode": {
    "name": "ipython",
    "version": 3
   },
   "file_extension": ".py",
   "mimetype": "text/x-python",
   "name": "python",
   "nbconvert_exporter": "python",
   "pygments_lexer": "ipython3",
   "version": "3.9.19"
  },
  "toc": {
   "base_numbering": 1,
   "nav_menu": {},
   "number_sections": true,
   "sideBar": true,
   "skip_h1_title": true,
   "title_cell": "Содержание",
   "title_sidebar": "Contents",
   "toc_cell": true,
   "toc_position": {},
   "toc_section_display": true,
   "toc_window_display": false
  }
 },
 "nbformat": 4,
 "nbformat_minor": 2
}
